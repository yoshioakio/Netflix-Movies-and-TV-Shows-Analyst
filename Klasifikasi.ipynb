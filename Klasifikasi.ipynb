{
  "nbformat": 4,
  "nbformat_minor": 0,
  "metadata": {
    "colab": {
      "provenance": [],
      "mount_file_id": "1lqCfqN3sgaJNkyhp70A1_FpY2f_Ynfop",
      "authorship_tag": "ABX9TyMZ59ycxCjrUUiMcJCL7c3l",
      "include_colab_link": true
    },
    "kernelspec": {
      "name": "python3",
      "display_name": "Python 3"
    },
    "language_info": {
      "name": "python"
    }
  },
  "cells": [
    {
      "cell_type": "markdown",
      "metadata": {
        "id": "view-in-github",
        "colab_type": "text"
      },
      "source": [
        "<a href=\"https://colab.research.google.com/github/yoshioakio/UAS-Artificial_Intelegence-Muhamad_Fajri_Permana_Haryanto-20220801439/blob/main/Klasifikasi.ipynb\" target=\"_parent\"><img src=\"https://colab.research.google.com/assets/colab-badge.svg\" alt=\"Open In Colab\"/></a>"
      ]
    },
    {
      "cell_type": "markdown",
      "source": [
        "# **Tahap Penerapan Algoritma Machine Learning (Supervised) Klasifikasi Support Vector Machine (SVM)**"
      ],
      "metadata": {
        "id": "RnysJumrjrmG"
      }
    },
    {
      "cell_type": "markdown",
      "source": [
        "🔮 Pada Tahap ini, akan dilakukan 2 proses analisis dan penerapan algoritma machine learning supervised, yaitu dengan melakukan tahap pemrosesan mengunakan data hasil clustering dan tanpa data hasil clustering."
      ],
      "metadata": {
        "id": "6FzYg6E3juAN"
      }
    },
    {
      "cell_type": "markdown",
      "source": [
        "📌 Supervised Learning hasil clustering:\n",
        "\"Berdasarkan hasil clustering, apakah kita bisa memprediksi kategori film yang disukai pengguna berdasarkan faktor tertentu?\""
      ],
      "metadata": {
        "id": "2zgvzT7JjrPe"
      }
    },
    {
      "cell_type": "markdown",
      "source": [
        "📌 Supervised Learning tanpa hasil clustering: \"Melakukan prediksi kategori film yang disukai pengguna berdasarkan faktor tertentu, tanpa menggunakan hasil klaster sebagai fitur tambahan? (klasifikasi tanpa data hasil clustering)\""
      ],
      "metadata": {
        "id": "F-AWVNN2jrDf"
      }
    },
    {
      "cell_type": "markdown",
      "source": [
        "# **1. Import Liblary**"
      ],
      "metadata": {
        "id": "0L4Hl4DYJYBH"
      }
    },
    {
      "cell_type": "markdown",
      "source": [
        "🗃️liblary pyhton yang digunakana untuk pembangunan model algoritma machine learning (supervised) ini"
      ],
      "metadata": {
        "id": "oHX4wOVrjv4S"
      }
    },
    {
      "cell_type": "code",
      "execution_count": null,
      "metadata": {
        "id": "5DJx6Nb34LqG"
      },
      "outputs": [],
      "source": [
        "import pandas as pd\n",
        "import numpy as np\n",
        "import matplotlib.pyplot as plt\n",
        "import seaborn as sns\n",
        "from sklearn.model_selection import train_test_split, learning_curve\n",
        "from sklearn.svm import SVC\n",
        "from sklearn.metrics import accuracy_score, classification_report, confusion_matrix, precision_score, recall_score, f1_score\n",
        "from sklearn.metrics import ConfusionMatrixDisplay\n",
        "from sklearn.model_selection import RandomizedSearchCV"
      ]
    },
    {
      "cell_type": "markdown",
      "source": [
        "🗃️ karena memakai data hasil dari tahap clustering data yang disimpan di google drive di tahap sebelumnnya, maka untuk itu diperlukan mengimport/memanggil data tersebut di google drive"
      ],
      "metadata": {
        "id": "HTNzpfvDkffk"
      }
    },
    {
      "cell_type": "code",
      "source": [
        "from google.colab import drive\n",
        "drive.mount('/content/drive')"
      ],
      "metadata": {
        "colab": {
          "base_uri": "https://localhost:8080/"
        },
        "id": "mabdyk07YKrO",
        "outputId": "010bb25e-b4e5-450b-804b-75e2b02fa21f"
      },
      "execution_count": null,
      "outputs": [
        {
          "output_type": "stream",
          "name": "stdout",
          "text": [
            "Drive already mounted at /content/drive; to attempt to forcibly remount, call drive.mount(\"/content/drive\", force_remount=True).\n"
          ]
        }
      ]
    },
    {
      "cell_type": "markdown",
      "source": [
        "# **2. Memuat Dataset dari Hasil Clustering**"
      ],
      "metadata": {
        "id": "U52TIu5sJeyc"
      }
    },
    {
      "cell_type": "code",
      "source": [
        "klas_df = pd.read_csv(\"/content/drive/MyDrive/dataset/ArtificialIntelegence/hasil_clus.csv\")\n",
        "klas_df.head()"
      ],
      "metadata": {
        "colab": {
          "base_uri": "https://localhost:8080/",
          "height": 345
        },
        "id": "4teCQYAqA6I8",
        "outputId": "374c883c-8764-4ad0-a8db-69054cfdd116"
      },
      "execution_count": null,
      "outputs": [
        {
          "output_type": "execute_result",
          "data": {
            "text/plain": [
              "  show_id     type                  title         director  \\\n",
              "0      s1    Movie   Dick Johnson Is Dead  Kirsten Johnson   \n",
              "1      s2  TV Show          Blood & Water         notknown   \n",
              "2      s3  TV Show              Ganglands  Julien Leclercq   \n",
              "3      s4  TV Show  Jailbirds New Orleans         notknown   \n",
              "4      s5  TV Show           Kota Factory         notknown   \n",
              "\n",
              "                                                cast        country  \\\n",
              "0                                           notknown  United States   \n",
              "1  Ama Qamata, Khosi Ngema, Gail Mabalane, Thaban...         Others   \n",
              "2  Sami Bouajila, Tracy Gotoas, Samuel Jouy, Nabi...       notknown   \n",
              "3                                           notknown       notknown   \n",
              "4  Mayur More, Jitendra Kumar, Ranjan Raj, Alam K...          India   \n",
              "\n",
              "           date_added  release_year  rating   duration  \\\n",
              "0  September 25, 2021           1.0    0.75     90 min   \n",
              "1  September 24, 2021           1.0    0.50  2 Seasons   \n",
              "2  September 24, 2021           1.0    0.50   1 Season   \n",
              "3  September 24, 2021           1.0    0.50   1 Season   \n",
              "4  September 24, 2021           1.0    0.50  2 Seasons   \n",
              "\n",
              "                 listed_in                                        description  \\\n",
              "0  Documentary & Biography  As her father nears the end of his life, filmm...   \n",
              "1                    Drama  After crossing paths at a party, a Cape Town t...   \n",
              "2       Action & Adventure  To protect his family from a powerful drug lor...   \n",
              "3                   Others  Feuds, flirtations and toilet talk go down amo...   \n",
              "4            International  In a city of coaching centers known to train I...   \n",
              "\n",
              "   type_encoded  country_encoded  genre_encoded  duration_minutes  \\\n",
              "0           0.0              0.9       0.333333          0.017069   \n",
              "1           1.0              0.5       0.416667          0.117128   \n",
              "2           1.0              1.0       0.000000          0.058270   \n",
              "3           1.0              1.0       0.833333          0.058270   \n",
              "4           1.0              0.2       0.666667          0.117128   \n",
              "\n",
              "   rating_genre  cluster     pca_x     pca_y  \n",
              "0          0.30        0 -0.254058  0.284791  \n",
              "1          0.25        1  0.710224 -0.189155  \n",
              "2          0.00        1  0.740289  0.329634  \n",
              "3          0.50        1  0.757879  0.286052  \n",
              "4          0.40        1  0.690403 -0.500070  "
            ],
            "text/html": [
              "\n",
              "  <div id=\"df-4d58f1e9-d1e2-4aca-88f5-30ab36a32be4\" class=\"colab-df-container\">\n",
              "    <div>\n",
              "<style scoped>\n",
              "    .dataframe tbody tr th:only-of-type {\n",
              "        vertical-align: middle;\n",
              "    }\n",
              "\n",
              "    .dataframe tbody tr th {\n",
              "        vertical-align: top;\n",
              "    }\n",
              "\n",
              "    .dataframe thead th {\n",
              "        text-align: right;\n",
              "    }\n",
              "</style>\n",
              "<table border=\"1\" class=\"dataframe\">\n",
              "  <thead>\n",
              "    <tr style=\"text-align: right;\">\n",
              "      <th></th>\n",
              "      <th>show_id</th>\n",
              "      <th>type</th>\n",
              "      <th>title</th>\n",
              "      <th>director</th>\n",
              "      <th>cast</th>\n",
              "      <th>country</th>\n",
              "      <th>date_added</th>\n",
              "      <th>release_year</th>\n",
              "      <th>rating</th>\n",
              "      <th>duration</th>\n",
              "      <th>listed_in</th>\n",
              "      <th>description</th>\n",
              "      <th>type_encoded</th>\n",
              "      <th>country_encoded</th>\n",
              "      <th>genre_encoded</th>\n",
              "      <th>duration_minutes</th>\n",
              "      <th>rating_genre</th>\n",
              "      <th>cluster</th>\n",
              "      <th>pca_x</th>\n",
              "      <th>pca_y</th>\n",
              "    </tr>\n",
              "  </thead>\n",
              "  <tbody>\n",
              "    <tr>\n",
              "      <th>0</th>\n",
              "      <td>s1</td>\n",
              "      <td>Movie</td>\n",
              "      <td>Dick Johnson Is Dead</td>\n",
              "      <td>Kirsten Johnson</td>\n",
              "      <td>notknown</td>\n",
              "      <td>United States</td>\n",
              "      <td>September 25, 2021</td>\n",
              "      <td>1.0</td>\n",
              "      <td>0.75</td>\n",
              "      <td>90 min</td>\n",
              "      <td>Documentary &amp; Biography</td>\n",
              "      <td>As her father nears the end of his life, filmm...</td>\n",
              "      <td>0.0</td>\n",
              "      <td>0.9</td>\n",
              "      <td>0.333333</td>\n",
              "      <td>0.017069</td>\n",
              "      <td>0.30</td>\n",
              "      <td>0</td>\n",
              "      <td>-0.254058</td>\n",
              "      <td>0.284791</td>\n",
              "    </tr>\n",
              "    <tr>\n",
              "      <th>1</th>\n",
              "      <td>s2</td>\n",
              "      <td>TV Show</td>\n",
              "      <td>Blood &amp; Water</td>\n",
              "      <td>notknown</td>\n",
              "      <td>Ama Qamata, Khosi Ngema, Gail Mabalane, Thaban...</td>\n",
              "      <td>Others</td>\n",
              "      <td>September 24, 2021</td>\n",
              "      <td>1.0</td>\n",
              "      <td>0.50</td>\n",
              "      <td>2 Seasons</td>\n",
              "      <td>Drama</td>\n",
              "      <td>After crossing paths at a party, a Cape Town t...</td>\n",
              "      <td>1.0</td>\n",
              "      <td>0.5</td>\n",
              "      <td>0.416667</td>\n",
              "      <td>0.117128</td>\n",
              "      <td>0.25</td>\n",
              "      <td>1</td>\n",
              "      <td>0.710224</td>\n",
              "      <td>-0.189155</td>\n",
              "    </tr>\n",
              "    <tr>\n",
              "      <th>2</th>\n",
              "      <td>s3</td>\n",
              "      <td>TV Show</td>\n",
              "      <td>Ganglands</td>\n",
              "      <td>Julien Leclercq</td>\n",
              "      <td>Sami Bouajila, Tracy Gotoas, Samuel Jouy, Nabi...</td>\n",
              "      <td>notknown</td>\n",
              "      <td>September 24, 2021</td>\n",
              "      <td>1.0</td>\n",
              "      <td>0.50</td>\n",
              "      <td>1 Season</td>\n",
              "      <td>Action &amp; Adventure</td>\n",
              "      <td>To protect his family from a powerful drug lor...</td>\n",
              "      <td>1.0</td>\n",
              "      <td>1.0</td>\n",
              "      <td>0.000000</td>\n",
              "      <td>0.058270</td>\n",
              "      <td>0.00</td>\n",
              "      <td>1</td>\n",
              "      <td>0.740289</td>\n",
              "      <td>0.329634</td>\n",
              "    </tr>\n",
              "    <tr>\n",
              "      <th>3</th>\n",
              "      <td>s4</td>\n",
              "      <td>TV Show</td>\n",
              "      <td>Jailbirds New Orleans</td>\n",
              "      <td>notknown</td>\n",
              "      <td>notknown</td>\n",
              "      <td>notknown</td>\n",
              "      <td>September 24, 2021</td>\n",
              "      <td>1.0</td>\n",
              "      <td>0.50</td>\n",
              "      <td>1 Season</td>\n",
              "      <td>Others</td>\n",
              "      <td>Feuds, flirtations and toilet talk go down amo...</td>\n",
              "      <td>1.0</td>\n",
              "      <td>1.0</td>\n",
              "      <td>0.833333</td>\n",
              "      <td>0.058270</td>\n",
              "      <td>0.50</td>\n",
              "      <td>1</td>\n",
              "      <td>0.757879</td>\n",
              "      <td>0.286052</td>\n",
              "    </tr>\n",
              "    <tr>\n",
              "      <th>4</th>\n",
              "      <td>s5</td>\n",
              "      <td>TV Show</td>\n",
              "      <td>Kota Factory</td>\n",
              "      <td>notknown</td>\n",
              "      <td>Mayur More, Jitendra Kumar, Ranjan Raj, Alam K...</td>\n",
              "      <td>India</td>\n",
              "      <td>September 24, 2021</td>\n",
              "      <td>1.0</td>\n",
              "      <td>0.50</td>\n",
              "      <td>2 Seasons</td>\n",
              "      <td>International</td>\n",
              "      <td>In a city of coaching centers known to train I...</td>\n",
              "      <td>1.0</td>\n",
              "      <td>0.2</td>\n",
              "      <td>0.666667</td>\n",
              "      <td>0.117128</td>\n",
              "      <td>0.40</td>\n",
              "      <td>1</td>\n",
              "      <td>0.690403</td>\n",
              "      <td>-0.500070</td>\n",
              "    </tr>\n",
              "  </tbody>\n",
              "</table>\n",
              "</div>\n",
              "    <div class=\"colab-df-buttons\">\n",
              "\n",
              "  <div class=\"colab-df-container\">\n",
              "    <button class=\"colab-df-convert\" onclick=\"convertToInteractive('df-4d58f1e9-d1e2-4aca-88f5-30ab36a32be4')\"\n",
              "            title=\"Convert this dataframe to an interactive table.\"\n",
              "            style=\"display:none;\">\n",
              "\n",
              "  <svg xmlns=\"http://www.w3.org/2000/svg\" height=\"24px\" viewBox=\"0 -960 960 960\">\n",
              "    <path d=\"M120-120v-720h720v720H120Zm60-500h600v-160H180v160Zm220 220h160v-160H400v160Zm0 220h160v-160H400v160ZM180-400h160v-160H180v160Zm440 0h160v-160H620v160ZM180-180h160v-160H180v160Zm440 0h160v-160H620v160Z\"/>\n",
              "  </svg>\n",
              "    </button>\n",
              "\n",
              "  <style>\n",
              "    .colab-df-container {\n",
              "      display:flex;\n",
              "      gap: 12px;\n",
              "    }\n",
              "\n",
              "    .colab-df-convert {\n",
              "      background-color: #E8F0FE;\n",
              "      border: none;\n",
              "      border-radius: 50%;\n",
              "      cursor: pointer;\n",
              "      display: none;\n",
              "      fill: #1967D2;\n",
              "      height: 32px;\n",
              "      padding: 0 0 0 0;\n",
              "      width: 32px;\n",
              "    }\n",
              "\n",
              "    .colab-df-convert:hover {\n",
              "      background-color: #E2EBFA;\n",
              "      box-shadow: 0px 1px 2px rgba(60, 64, 67, 0.3), 0px 1px 3px 1px rgba(60, 64, 67, 0.15);\n",
              "      fill: #174EA6;\n",
              "    }\n",
              "\n",
              "    .colab-df-buttons div {\n",
              "      margin-bottom: 4px;\n",
              "    }\n",
              "\n",
              "    [theme=dark] .colab-df-convert {\n",
              "      background-color: #3B4455;\n",
              "      fill: #D2E3FC;\n",
              "    }\n",
              "\n",
              "    [theme=dark] .colab-df-convert:hover {\n",
              "      background-color: #434B5C;\n",
              "      box-shadow: 0px 1px 3px 1px rgba(0, 0, 0, 0.15);\n",
              "      filter: drop-shadow(0px 1px 2px rgba(0, 0, 0, 0.3));\n",
              "      fill: #FFFFFF;\n",
              "    }\n",
              "  </style>\n",
              "\n",
              "    <script>\n",
              "      const buttonEl =\n",
              "        document.querySelector('#df-4d58f1e9-d1e2-4aca-88f5-30ab36a32be4 button.colab-df-convert');\n",
              "      buttonEl.style.display =\n",
              "        google.colab.kernel.accessAllowed ? 'block' : 'none';\n",
              "\n",
              "      async function convertToInteractive(key) {\n",
              "        const element = document.querySelector('#df-4d58f1e9-d1e2-4aca-88f5-30ab36a32be4');\n",
              "        const dataTable =\n",
              "          await google.colab.kernel.invokeFunction('convertToInteractive',\n",
              "                                                    [key], {});\n",
              "        if (!dataTable) return;\n",
              "\n",
              "        const docLinkHtml = 'Like what you see? Visit the ' +\n",
              "          '<a target=\"_blank\" href=https://colab.research.google.com/notebooks/data_table.ipynb>data table notebook</a>'\n",
              "          + ' to learn more about interactive tables.';\n",
              "        element.innerHTML = '';\n",
              "        dataTable['output_type'] = 'display_data';\n",
              "        await google.colab.output.renderOutput(dataTable, element);\n",
              "        const docLink = document.createElement('div');\n",
              "        docLink.innerHTML = docLinkHtml;\n",
              "        element.appendChild(docLink);\n",
              "      }\n",
              "    </script>\n",
              "  </div>\n",
              "\n",
              "\n",
              "<div id=\"df-001cba24-caee-4da5-98fa-7bb20f1036aa\">\n",
              "  <button class=\"colab-df-quickchart\" onclick=\"quickchart('df-001cba24-caee-4da5-98fa-7bb20f1036aa')\"\n",
              "            title=\"Suggest charts\"\n",
              "            style=\"display:none;\">\n",
              "\n",
              "<svg xmlns=\"http://www.w3.org/2000/svg\" height=\"24px\"viewBox=\"0 0 24 24\"\n",
              "     width=\"24px\">\n",
              "    <g>\n",
              "        <path d=\"M19 3H5c-1.1 0-2 .9-2 2v14c0 1.1.9 2 2 2h14c1.1 0 2-.9 2-2V5c0-1.1-.9-2-2-2zM9 17H7v-7h2v7zm4 0h-2V7h2v10zm4 0h-2v-4h2v4z\"/>\n",
              "    </g>\n",
              "</svg>\n",
              "  </button>\n",
              "\n",
              "<style>\n",
              "  .colab-df-quickchart {\n",
              "      --bg-color: #E8F0FE;\n",
              "      --fill-color: #1967D2;\n",
              "      --hover-bg-color: #E2EBFA;\n",
              "      --hover-fill-color: #174EA6;\n",
              "      --disabled-fill-color: #AAA;\n",
              "      --disabled-bg-color: #DDD;\n",
              "  }\n",
              "\n",
              "  [theme=dark] .colab-df-quickchart {\n",
              "      --bg-color: #3B4455;\n",
              "      --fill-color: #D2E3FC;\n",
              "      --hover-bg-color: #434B5C;\n",
              "      --hover-fill-color: #FFFFFF;\n",
              "      --disabled-bg-color: #3B4455;\n",
              "      --disabled-fill-color: #666;\n",
              "  }\n",
              "\n",
              "  .colab-df-quickchart {\n",
              "    background-color: var(--bg-color);\n",
              "    border: none;\n",
              "    border-radius: 50%;\n",
              "    cursor: pointer;\n",
              "    display: none;\n",
              "    fill: var(--fill-color);\n",
              "    height: 32px;\n",
              "    padding: 0;\n",
              "    width: 32px;\n",
              "  }\n",
              "\n",
              "  .colab-df-quickchart:hover {\n",
              "    background-color: var(--hover-bg-color);\n",
              "    box-shadow: 0 1px 2px rgba(60, 64, 67, 0.3), 0 1px 3px 1px rgba(60, 64, 67, 0.15);\n",
              "    fill: var(--button-hover-fill-color);\n",
              "  }\n",
              "\n",
              "  .colab-df-quickchart-complete:disabled,\n",
              "  .colab-df-quickchart-complete:disabled:hover {\n",
              "    background-color: var(--disabled-bg-color);\n",
              "    fill: var(--disabled-fill-color);\n",
              "    box-shadow: none;\n",
              "  }\n",
              "\n",
              "  .colab-df-spinner {\n",
              "    border: 2px solid var(--fill-color);\n",
              "    border-color: transparent;\n",
              "    border-bottom-color: var(--fill-color);\n",
              "    animation:\n",
              "      spin 1s steps(1) infinite;\n",
              "  }\n",
              "\n",
              "  @keyframes spin {\n",
              "    0% {\n",
              "      border-color: transparent;\n",
              "      border-bottom-color: var(--fill-color);\n",
              "      border-left-color: var(--fill-color);\n",
              "    }\n",
              "    20% {\n",
              "      border-color: transparent;\n",
              "      border-left-color: var(--fill-color);\n",
              "      border-top-color: var(--fill-color);\n",
              "    }\n",
              "    30% {\n",
              "      border-color: transparent;\n",
              "      border-left-color: var(--fill-color);\n",
              "      border-top-color: var(--fill-color);\n",
              "      border-right-color: var(--fill-color);\n",
              "    }\n",
              "    40% {\n",
              "      border-color: transparent;\n",
              "      border-right-color: var(--fill-color);\n",
              "      border-top-color: var(--fill-color);\n",
              "    }\n",
              "    60% {\n",
              "      border-color: transparent;\n",
              "      border-right-color: var(--fill-color);\n",
              "    }\n",
              "    80% {\n",
              "      border-color: transparent;\n",
              "      border-right-color: var(--fill-color);\n",
              "      border-bottom-color: var(--fill-color);\n",
              "    }\n",
              "    90% {\n",
              "      border-color: transparent;\n",
              "      border-bottom-color: var(--fill-color);\n",
              "    }\n",
              "  }\n",
              "</style>\n",
              "\n",
              "  <script>\n",
              "    async function quickchart(key) {\n",
              "      const quickchartButtonEl =\n",
              "        document.querySelector('#' + key + ' button');\n",
              "      quickchartButtonEl.disabled = true;  // To prevent multiple clicks.\n",
              "      quickchartButtonEl.classList.add('colab-df-spinner');\n",
              "      try {\n",
              "        const charts = await google.colab.kernel.invokeFunction(\n",
              "            'suggestCharts', [key], {});\n",
              "      } catch (error) {\n",
              "        console.error('Error during call to suggestCharts:', error);\n",
              "      }\n",
              "      quickchartButtonEl.classList.remove('colab-df-spinner');\n",
              "      quickchartButtonEl.classList.add('colab-df-quickchart-complete');\n",
              "    }\n",
              "    (() => {\n",
              "      let quickchartButtonEl =\n",
              "        document.querySelector('#df-001cba24-caee-4da5-98fa-7bb20f1036aa button');\n",
              "      quickchartButtonEl.style.display =\n",
              "        google.colab.kernel.accessAllowed ? 'block' : 'none';\n",
              "    })();\n",
              "  </script>\n",
              "</div>\n",
              "\n",
              "    </div>\n",
              "  </div>\n"
            ],
            "application/vnd.google.colaboratory.intrinsic+json": {
              "type": "dataframe",
              "variable_name": "klas_df",
              "summary": "{\n  \"name\": \"klas_df\",\n  \"rows\": 7810,\n  \"fields\": [\n    {\n      \"column\": \"show_id\",\n      \"properties\": {\n        \"dtype\": \"string\",\n        \"num_unique_values\": 7810,\n        \"samples\": [\n          \"s6438\",\n          \"s8310\",\n          \"s6806\"\n        ],\n        \"semantic_type\": \"\",\n        \"description\": \"\"\n      }\n    },\n    {\n      \"column\": \"type\",\n      \"properties\": {\n        \"dtype\": \"category\",\n        \"num_unique_values\": 2,\n        \"samples\": [\n          \"TV Show\",\n          \"Movie\"\n        ],\n        \"semantic_type\": \"\",\n        \"description\": \"\"\n      }\n    },\n    {\n      \"column\": \"title\",\n      \"properties\": {\n        \"dtype\": \"string\",\n        \"num_unique_values\": 7810,\n        \"samples\": [\n          \"Center Stage\",\n          \"The Foreigner\"\n        ],\n        \"semantic_type\": \"\",\n        \"description\": \"\"\n      }\n    },\n    {\n      \"column\": \"director\",\n      \"properties\": {\n        \"dtype\": \"string\",\n        \"num_unique_values\": 4241,\n        \"samples\": [\n          \"Ashok Nanda\",\n          \"Shashank Khaitan\"\n        ],\n        \"semantic_type\": \"\",\n        \"description\": \"\"\n      }\n    },\n    {\n      \"column\": \"cast\",\n      \"properties\": {\n        \"dtype\": \"string\",\n        \"num_unique_values\": 6770,\n        \"samples\": [\n          \"Elizabeth Banks, James Marsden, Gillian Jacobs, Sarah Wright, Ethan Suplee, Bill Burr, Ken Davitian, Lawrence Gilliard Jr., Alphonso Mcauley, Da'Vone McDonald, John Marsden, Willie Garson, Oliver Hudson, P.J. Byrne\",\n          \"Mauricio Ochmann, Sandra Echeverr\\u00eda, Sa\\u00fal Lisazo, Roberto Moll, Geraldine Zivic, Andrea L\\u00f3pez, Juan Pablo Raba, Daniel Lugo\"\n        ],\n        \"semantic_type\": \"\",\n        \"description\": \"\"\n      }\n    },\n    {\n      \"column\": \"country\",\n      \"properties\": {\n        \"dtype\": \"category\",\n        \"num_unique_values\": 11,\n        \"samples\": [\n          \"Japan\",\n          \"United States\"\n        ],\n        \"semantic_type\": \"\",\n        \"description\": \"\"\n      }\n    },\n    {\n      \"column\": \"date_added\",\n      \"properties\": {\n        \"dtype\": \"category\",\n        \"num_unique_values\": 1689,\n        \"samples\": [\n          \"April 24, 2018\",\n          \"February 4, 2017\"\n        ],\n        \"semantic_type\": \"\",\n        \"description\": \"\"\n      }\n    },\n    {\n      \"column\": \"release_year\",\n      \"properties\": {\n        \"dtype\": \"number\",\n        \"std\": 0.04591336690227261,\n        \"min\": 0.8474576271186436,\n        \"max\": 1.0,\n        \"num_unique_values\": 4,\n        \"samples\": [\n          0.9322033898305088,\n          0.8474576271186436\n        ],\n        \"semantic_type\": \"\",\n        \"description\": \"\"\n      }\n    },\n    {\n      \"column\": \"rating\",\n      \"properties\": {\n        \"dtype\": \"number\",\n        \"std\": 0.23117172265520822,\n        \"min\": 0.0,\n        \"max\": 1.0,\n        \"num_unique_values\": 5,\n        \"samples\": [\n          0.5,\n          1.0\n        ],\n        \"semantic_type\": \"\",\n        \"description\": \"\"\n      }\n    },\n    {\n      \"column\": \"duration\",\n      \"properties\": {\n        \"dtype\": \"category\",\n        \"num_unique_values\": 193,\n        \"samples\": [\n          \"82 min\",\n          \"57 min\"\n        ],\n        \"semantic_type\": \"\",\n        \"description\": \"\"\n      }\n    },\n    {\n      \"column\": \"listed_in\",\n      \"properties\": {\n        \"dtype\": \"category\",\n        \"num_unique_values\": 13,\n        \"samples\": [\n          \"Comedy\",\n          \"Anime & Animation\"\n        ],\n        \"semantic_type\": \"\",\n        \"description\": \"\"\n      }\n    },\n    {\n      \"column\": \"description\",\n      \"properties\": {\n        \"dtype\": \"string\",\n        \"num_unique_values\": 7781,\n        \"samples\": [\n          \"Employees turn up the antics during an eight-hour shift at the restaurant Shenaniganz when new opportunities call and boredom gets the best of them.\",\n          \"Journalist Piers Morgan goes behind prison walls to speak with women convicted of shocking crimes, shedding light on what drove them to murder.\"\n        ],\n        \"semantic_type\": \"\",\n        \"description\": \"\"\n      }\n    },\n    {\n      \"column\": \"type_encoded\",\n      \"properties\": {\n        \"dtype\": \"number\",\n        \"std\": 0.4485999448698899,\n        \"min\": 0.0,\n        \"max\": 1.0,\n        \"num_unique_values\": 2,\n        \"samples\": [\n          1.0,\n          0.0\n        ],\n        \"semantic_type\": \"\",\n        \"description\": \"\"\n      }\n    },\n    {\n      \"column\": \"country_encoded\",\n      \"properties\": {\n        \"dtype\": \"number\",\n        \"std\": 0.2823613884327305,\n        \"min\": 0.0,\n        \"max\": 1.0,\n        \"num_unique_values\": 11,\n        \"samples\": [\n          0.3,\n          0.9\n        ],\n        \"semantic_type\": \"\",\n        \"description\": \"\"\n      }\n    },\n    {\n      \"column\": \"genre_encoded\",\n      \"properties\": {\n        \"dtype\": \"number\",\n        \"std\": 0.2206726082339402,\n        \"min\": 0.0,\n        \"max\": 1.0,\n        \"num_unique_values\": 13,\n        \"samples\": [\n          0.1666666666666666,\n          0.0833333333333333\n        ],\n        \"semantic_type\": \"\",\n        \"description\": \"\"\n      }\n    },\n    {\n      \"column\": \"duration_minutes\",\n      \"properties\": {\n        \"dtype\": \"number\",\n        \"std\": 0.026319317083133165,\n        \"min\": 0.0,\n        \"max\": 0.1171277221895232,\n        \"num_unique_values\": 193,\n        \"samples\": [\n          0.0154993133215617,\n          0.0105944673337257\n        ],\n        \"semantic_type\": \"\",\n        \"description\": \"\"\n      }\n    },\n    {\n      \"column\": \"rating_genre\",\n      \"properties\": {\n        \"dtype\": \"number\",\n        \"std\": 0.1841421467223964,\n        \"min\": 0.0,\n        \"max\": 0.75,\n        \"num_unique_values\": 24,\n        \"samples\": [\n          0.525,\n          0.45\n        ],\n        \"semantic_type\": \"\",\n        \"description\": \"\"\n      }\n    },\n    {\n      \"column\": \"cluster\",\n      \"properties\": {\n        \"dtype\": \"number\",\n        \"std\": 0,\n        \"min\": 0,\n        \"max\": 1,\n        \"num_unique_values\": 2,\n        \"samples\": [\n          1,\n          0\n        ],\n        \"semantic_type\": \"\",\n        \"description\": \"\"\n      }\n    },\n    {\n      \"column\": \"pca_x\",\n      \"properties\": {\n        \"dtype\": \"number\",\n        \"std\": 0.4504633879786545,\n        \"min\": -0.3421673559314518,\n        \"max\": 0.7666737539345859,\n        \"num_unique_values\": 4345,\n        \"samples\": [\n          0.6562060881465247,\n          -0.2937930406965081\n        ],\n        \"semantic_type\": \"\",\n        \"description\": \"\"\n      }\n    },\n    {\n      \"column\": \"pca_y\",\n      \"properties\": {\n        \"dtype\": \"number\",\n        \"std\": 0.28143760407799606,\n        \"min\": -0.7295101360037656,\n        \"max\": 0.4103773244622185,\n        \"num_unique_values\": 4345,\n        \"samples\": [\n          -0.6635411443287129,\n          -0.0975099315271385\n        ],\n        \"semantic_type\": \"\",\n        \"description\": \"\"\n      }\n    }\n  ]\n}"
            }
          },
          "metadata": {},
          "execution_count": 3
        }
      ]
    },
    {
      "cell_type": "code",
      "source": [
        "print(f\"Dataset memiliki {klas_df.shape[0]} baris dan {klas_df.shape[1]} kolom.\\n\")"
      ],
      "metadata": {
        "colab": {
          "base_uri": "https://localhost:8080/"
        },
        "id": "G1GqpGR4A6j5",
        "outputId": "60447bc4-8ff3-49df-ad5e-0bb34549cc30"
      },
      "execution_count": null,
      "outputs": [
        {
          "output_type": "stream",
          "name": "stdout",
          "text": [
            "Dataset memiliki 7810 baris dan 20 kolom.\n",
            "\n"
          ]
        }
      ]
    },
    {
      "cell_type": "code",
      "source": [
        "klas_df.info()"
      ],
      "metadata": {
        "colab": {
          "base_uri": "https://localhost:8080/"
        },
        "id": "9LE2Do0XEWP0",
        "outputId": "21bdfc9e-e93b-4b37-cc9d-b8bf0cd558ad"
      },
      "execution_count": null,
      "outputs": [
        {
          "output_type": "stream",
          "name": "stdout",
          "text": [
            "<class 'pandas.core.frame.DataFrame'>\n",
            "RangeIndex: 7810 entries, 0 to 7809\n",
            "Data columns (total 20 columns):\n",
            " #   Column            Non-Null Count  Dtype  \n",
            "---  ------            --------------  -----  \n",
            " 0   show_id           7810 non-null   object \n",
            " 1   type              7810 non-null   object \n",
            " 2   title             7810 non-null   object \n",
            " 3   director          7810 non-null   object \n",
            " 4   cast              7810 non-null   object \n",
            " 5   country           7810 non-null   object \n",
            " 6   date_added        7810 non-null   object \n",
            " 7   release_year      7810 non-null   float64\n",
            " 8   rating            7810 non-null   float64\n",
            " 9   duration          7810 non-null   object \n",
            " 10  listed_in         7810 non-null   object \n",
            " 11  description       7810 non-null   object \n",
            " 12  type_encoded      7810 non-null   float64\n",
            " 13  country_encoded   7810 non-null   float64\n",
            " 14  genre_encoded     7810 non-null   float64\n",
            " 15  duration_minutes  7810 non-null   float64\n",
            " 16  rating_genre      7810 non-null   float64\n",
            " 17  cluster           7810 non-null   int64  \n",
            " 18  pca_x             7810 non-null   float64\n",
            " 19  pca_y             7810 non-null   float64\n",
            "dtypes: float64(9), int64(1), object(10)\n",
            "memory usage: 1.2+ MB\n"
          ]
        }
      ]
    },
    {
      "cell_type": "markdown",
      "source": [
        "# **3. Menetukan Fitur Yang Cocok** (Pakai Hasil Clustering)"
      ],
      "metadata": {
        "id": "4hUCPQjhJtwt"
      }
    },
    {
      "cell_type": "markdown",
      "source": [
        "📌 Fitur utama yang relevan untuk di lakukan tahap supervised, berdasarkan hasil dari clustering :\n",
        "\n",
        "* ✅ release_year\n",
        "* ✅ duration_minutes\n",
        "* ✅ rating_genre\n",
        "* ✅ country_encoded\n",
        "* ✅ genre_encoded\n",
        "* ✅ rating\n",
        "* ✅ cluster → Hasil dari proses clustering sebelumnnya"
      ],
      "metadata": {
        "id": "aDoePyyrdb2L"
      }
    },
    {
      "cell_type": "code",
      "source": [
        "def assign_popularity(row):\n",
        "    if row['cluster'] == 1 and row['rating'] >= 0.50 and row['genre_encoded'] >= 0.49:\n",
        "        return '0'\n",
        "    elif row['cluster'] == 0 and row['rating'] >= 0.50 and row['genre_encoded'] >= 0.49:\n",
        "        return '0'\n",
        "    elif row['cluster'] == 1 and row['rating'] < 0.50 and row['genre_encoded'] < 0.49:\n",
        "        return '1'\n",
        "    elif row['cluster'] == 0 and row['rating'] < 0.50 and row['genre_encoded'] < 0.49:\n",
        "        return '1'\n",
        "    else:\n",
        "        return '1'\n",
        "\n",
        "klas_df['like'] = klas_df.apply(assign_popularity, axis=1)"
      ],
      "metadata": {
        "id": "JgU3G0G9wbCx"
      },
      "execution_count": null,
      "outputs": []
    },
    {
      "cell_type": "code",
      "source": [
        "all_features = ['release_year', 'duration_minutes', 'country_encoded', 'rating_genre', 'cluster']\n",
        "\n",
        "X = klas_df[all_features]\n",
        "y = klas_df['like']"
      ],
      "metadata": {
        "id": "XUVIGsSXcl3L"
      },
      "execution_count": null,
      "outputs": []
    },
    {
      "cell_type": "code",
      "source": [
        "plt.figure(figsize=(20, 8))\n",
        "for i, column in enumerate(all_features, 1):\n",
        "    plt.subplot(2, (len(all_features) + 1) // 2, i)\n",
        "    sns.boxplot(data=klas_df, y=column, color=\"orange\")\n",
        "    plt.title(f'Boxplot of {column}')\n",
        "    plt.ylabel(column)\n",
        "\n",
        "plt.tight_layout()\n",
        "plt.show()"
      ],
      "metadata": {
        "colab": {
          "base_uri": "https://localhost:8080/",
          "height": 807
        },
        "id": "tNJBLJwvc0aF",
        "outputId": "f9894ffb-3109-496b-cb6f-dd92cd57b2d3"
      },
      "execution_count": null,
      "outputs": [
        {
          "output_type": "display_data",
          "data": {
            "text/plain": [
              "<Figure size 2000x800 with 5 Axes>"
            ],
            "image/png": "[encoded data removed]"
          },
          "metadata": {}
        }
      ]
    },
    {
      "cell_type": "markdown",
      "source": [
        "# **4. Memisahkan Data**"
      ],
      "metadata": {
        "id": "81GiEZ71J-6G"
      }
    },
    {
      "cell_type": "markdown",
      "source": [
        "➗ **Data kemudian dibagi menjadi 80% untuk data latih dan 20% untuk data prediksi.**"
      ],
      "metadata": {
        "id": "SZxLg4MR9EYk"
      }
    },
    {
      "cell_type": "code",
      "source": [
        "X_train, X_test, y_train, y_test = train_test_split(X, y, test_size=0.2, random_state=42)"
      ],
      "metadata": {
        "id": "_GAYX1gOIrdg"
      },
      "execution_count": null,
      "outputs": []
    },
    {
      "cell_type": "code",
      "source": [
        "train_distribution = y_train.value_counts()\n",
        "print(\"Distribusi Target pada Training Set:\")\n",
        "train_distribution"
      ],
      "metadata": {
        "colab": {
          "base_uri": "https://localhost:8080/",
          "height": 196
        },
        "id": "bbwZSJZBEDT5",
        "outputId": "f388efcd-be70-4bdd-985b-1cb0433ab616"
      },
      "execution_count": null,
      "outputs": [
        {
          "output_type": "stream",
          "name": "stdout",
          "text": [
            "Distribusi Target pada Training Set:\n"
          ]
        },
        {
          "output_type": "execute_result",
          "data": {
            "text/plain": [
              "like\n",
              "1    4831\n",
              "0    1417\n",
              "Name: count, dtype: int64"
            ],
            "text/html": [
              "<div>\n",
              "<style scoped>\n",
              "    .dataframe tbody tr th:only-of-type {\n",
              "        vertical-align: middle;\n",
              "    }\n",
              "\n",
              "    .dataframe tbody tr th {\n",
              "        vertical-align: top;\n",
              "    }\n",
              "\n",
              "    .dataframe thead th {\n",
              "        text-align: right;\n",
              "    }\n",
              "</style>\n",
              "<table border=\"1\" class=\"dataframe\">\n",
              "  <thead>\n",
              "    <tr style=\"text-align: right;\">\n",
              "      <th></th>\n",
              "      <th>count</th>\n",
              "    </tr>\n",
              "    <tr>\n",
              "      <th>like</th>\n",
              "      <th></th>\n",
              "    </tr>\n",
              "  </thead>\n",
              "  <tbody>\n",
              "    <tr>\n",
              "      <th>1</th>\n",
              "      <td>4831</td>\n",
              "    </tr>\n",
              "    <tr>\n",
              "      <th>0</th>\n",
              "      <td>1417</td>\n",
              "    </tr>\n",
              "  </tbody>\n",
              "</table>\n",
              "</div><br><label><b>dtype:</b> int64</label>"
            ]
          },
          "metadata": {},
          "execution_count": 10
        }
      ]
    },
    {
      "cell_type": "code",
      "source": [
        "test_distribution = y_test.value_counts()\n",
        "print(\"\\nDistribusi Target pada Test Set:\")\n",
        "test_distribution"
      ],
      "metadata": {
        "id": "kydXLbXaP9Bh",
        "colab": {
          "base_uri": "https://localhost:8080/",
          "height": 213
        },
        "outputId": "88e66dda-5030-4daf-d790-aad4b69c699f"
      },
      "execution_count": null,
      "outputs": [
        {
          "output_type": "stream",
          "name": "stdout",
          "text": [
            "\n",
            "Distribusi Target pada Test Set:\n"
          ]
        },
        {
          "output_type": "execute_result",
          "data": {
            "text/plain": [
              "like\n",
              "1    1203\n",
              "0     359\n",
              "Name: count, dtype: int64"
            ],
            "text/html": [
              "<div>\n",
              "<style scoped>\n",
              "    .dataframe tbody tr th:only-of-type {\n",
              "        vertical-align: middle;\n",
              "    }\n",
              "\n",
              "    .dataframe tbody tr th {\n",
              "        vertical-align: top;\n",
              "    }\n",
              "\n",
              "    .dataframe thead th {\n",
              "        text-align: right;\n",
              "    }\n",
              "</style>\n",
              "<table border=\"1\" class=\"dataframe\">\n",
              "  <thead>\n",
              "    <tr style=\"text-align: right;\">\n",
              "      <th></th>\n",
              "      <th>count</th>\n",
              "    </tr>\n",
              "    <tr>\n",
              "      <th>like</th>\n",
              "      <th></th>\n",
              "    </tr>\n",
              "  </thead>\n",
              "  <tbody>\n",
              "    <tr>\n",
              "      <th>1</th>\n",
              "      <td>1203</td>\n",
              "    </tr>\n",
              "    <tr>\n",
              "      <th>0</th>\n",
              "      <td>359</td>\n",
              "    </tr>\n",
              "  </tbody>\n",
              "</table>\n",
              "</div><br><label><b>dtype:</b> int64</label>"
            ]
          },
          "metadata": {},
          "execution_count": 11
        }
      ]
    },
    {
      "cell_type": "markdown",
      "source": [
        "# **5. Membangun Model Klasifikasi**"
      ],
      "metadata": {
        "id": "eB6ski7GeLgz"
      }
    },
    {
      "cell_type": "markdown",
      "source": [
        "## **1️⃣ Menggunakan Support Vector Machine**"
      ],
      "metadata": {
        "id": "zRIJhCHdeMAR"
      }
    },
    {
      "cell_type": "code",
      "source": [
        "svm_model = SVC(kernel='linear', random_state=42)\n",
        "svm_model.fit(X_train, y_train)"
      ],
      "metadata": {
        "colab": {
          "base_uri": "https://localhost:8080/",
          "height": 81
        },
        "id": "UPs2P4s5eMbl",
        "outputId": "c4a58357-f56f-475e-dc57-25ebecef7327"
      },
      "execution_count": null,
      "outputs": [
        {
          "output_type": "execute_result",
          "data": {
            "text/plain": [
              "SVC(kernel='linear', random_state=42)"
            ],
            "text/html": [
              "<style>#sk-container-id-1 {\n",
              "  /* Definition of color scheme common for light and dark mode */\n",
              "  --sklearn-color-text: #000;\n",
              "  --sklearn-color-text-muted: #666;\n",
              "  --sklearn-color-line: gray;\n",
              "  /* Definition of color scheme for unfitted estimators */\n",
              "  --sklearn-color-unfitted-level-0: #fff5e6;\n",
              "  --sklearn-color-unfitted-level-1: #f6e4d2;\n",
              "  --sklearn-color-unfitted-level-2: #ffe0b3;\n",
              "  --sklearn-color-unfitted-level-3: chocolate;\n",
              "  /* Definition of color scheme for fitted estimators */\n",
              "  --sklearn-color-fitted-level-0: #f0f8ff;\n",
              "  --sklearn-color-fitted-level-1: #d4ebff;\n",
              "  --sklearn-color-fitted-level-2: #b3dbfd;\n",
              "  --sklearn-color-fitted-level-3: cornflowerblue;\n",
              "\n",
              "  /* Specific color for light theme */\n",
              "  --sklearn-color-text-on-default-background: var(--sg-text-color, var(--theme-code-foreground, var(--jp-content-font-color1, black)));\n",
              "  --sklearn-color-background: var(--sg-background-color, var(--theme-background, var(--jp-layout-color0, white)));\n",
              "  --sklearn-color-border-box: var(--sg-text-color, var(--theme-code-foreground, var(--jp-content-font-color1, black)));\n",
              "  --sklearn-color-icon: #696969;\n",
              "\n",
              "  @media (prefers-color-scheme: dark) {\n",
              "    /* Redefinition of color scheme for dark theme */\n",
              "    --sklearn-color-text-on-default-background: var(--sg-text-color, var(--theme-code-foreground, var(--jp-content-font-color1, white)));\n",
              "    --sklearn-color-background: var(--sg-background-color, var(--theme-background, var(--jp-layout-color0, #111)));\n",
              "    --sklearn-color-border-box: var(--sg-text-color, var(--theme-code-foreground, var(--jp-content-font-color1, white)));\n",
              "    --sklearn-color-icon: #878787;\n",
              "  }\n",
              "}\n",
              "\n",
              "#sk-container-id-1 {\n",
              "  color: var(--sklearn-color-text);\n",
              "}\n",
              "\n",
              "#sk-container-id-1 pre {\n",
              "  padding: 0;\n",
              "}\n",
              "\n",
              "#sk-container-id-1 input.sk-hidden--visually {\n",
              "  border: 0;\n",
              "  clip: rect(1px 1px 1px 1px);\n",
              "  clip: rect(1px, 1px, 1px, 1px);\n",
              "  height: 1px;\n",
              "  margin: -1px;\n",
              "  overflow: hidden;\n",
              "  padding: 0;\n",
              "  position: absolute;\n",
              "  width: 1px;\n",
              "}\n",
              "\n",
              "#sk-container-id-1 div.sk-dashed-wrapped {\n",
              "  border: 1px dashed var(--sklearn-color-line);\n",
              "  margin: 0 0.4em 0.5em 0.4em;\n",
              "  box-sizing: border-box;\n",
              "  padding-bottom: 0.4em;\n",
              "  background-color: var(--sklearn-color-background);\n",
              "}\n",
              "\n",
              "#sk-container-id-1 div.sk-container {\n",
              "  /* jupyter's `normalize.less` sets `[hidden] { display: none; }`\n",
              "     but bootstrap.min.css set `[hidden] { display: none !important; }`\n",
              "     so we also need the `!important` here to be able to override the\n",
              "     default hidden behavior on the sphinx rendered scikit-learn.org.\n",
              "     See: https://github.com/scikit-learn/scikit-learn/issues/21755 */\n",
              "  display: inline-block !important;\n",
              "  position: relative;\n",
              "}\n",
              "\n",
              "#sk-container-id-1 div.sk-text-repr-fallback {\n",
              "  display: none;\n",
              "}\n",
              "\n",
              "div.sk-parallel-item,\n",
              "div.sk-serial,\n",
              "div.sk-item {\n",
              "  /* draw centered vertical line to link estimators */\n",
              "  background-image: linear-gradient(var(--sklearn-color-text-on-default-background), var(--sklearn-color-text-on-default-background));\n",
              "  background-size: 2px 100%;\n",
              "  background-repeat: no-repeat;\n",
              "  background-position: center center;\n",
              "}\n",
              "\n",
              "/* Parallel-specific style estimator block */\n",
              "\n",
              "#sk-container-id-1 div.sk-parallel-item::after {\n",
              "  content: \"\";\n",
              "  width: 100%;\n",
              "  border-bottom: 2px solid var(--sklearn-color-text-on-default-background);\n",
              "  flex-grow: 1;\n",
              "}\n",
              "\n",
              "#sk-container-id-1 div.sk-parallel {\n",
              "  display: flex;\n",
              "  align-items: stretch;\n",
              "  justify-content: center;\n",
              "  background-color: var(--sklearn-color-background);\n",
              "  position: relative;\n",
              "}\n",
              "\n",
              "#sk-container-id-1 div.sk-parallel-item {\n",
              "  display: flex;\n",
              "  flex-direction: column;\n",
              "}\n",
              "\n",
              "#sk-container-id-1 div.sk-parallel-item:first-child::after {\n",
              "  align-self: flex-end;\n",
              "  width: 50%;\n",
              "}\n",
              "\n",
              "#sk-container-id-1 div.sk-parallel-item:last-child::after {\n",
              "  align-self: flex-start;\n",
              "  width: 50%;\n",
              "}\n",
              "\n",
              "#sk-container-id-1 div.sk-parallel-item:only-child::after {\n",
              "  width: 0;\n",
              "}\n",
              "\n",
              "/* Serial-specific style estimator block */\n",
              "\n",
              "#sk-container-id-1 div.sk-serial {\n",
              "  display: flex;\n",
              "  flex-direction: column;\n",
              "  align-items: center;\n",
              "  background-color: var(--sklearn-color-background);\n",
              "  padding-right: 1em;\n",
              "  padding-left: 1em;\n",
              "}\n",
              "\n",
              "\n",
              "/* Toggleable style: style used for estimator/Pipeline/ColumnTransformer box that is\n",
              "clickable and can be expanded/collapsed.\n",
              "- Pipeline and ColumnTransformer use this feature and define the default style\n",
              "- Estimators will overwrite some part of the style using the `sk-estimator` class\n",
              "*/\n",
              "\n",
              "/* Pipeline and ColumnTransformer style (default) */\n",
              "\n",
              "#sk-container-id-1 div.sk-toggleable {\n",
              "  /* Default theme specific background. It is overwritten whether we have a\n",
              "  specific estimator or a Pipeline/ColumnTransformer */\n",
              "  background-color: var(--sklearn-color-background);\n",
              "}\n",
              "\n",
              "/* Toggleable label */\n",
              "#sk-container-id-1 label.sk-toggleable__label {\n",
              "  cursor: pointer;\n",
              "  display: flex;\n",
              "  width: 100%;\n",
              "  margin-bottom: 0;\n",
              "  padding: 0.5em;\n",
              "  box-sizing: border-box;\n",
              "  text-align: center;\n",
              "  align-items: start;\n",
              "  justify-content: space-between;\n",
              "  gap: 0.5em;\n",
              "}\n",
              "\n",
              "#sk-container-id-1 label.sk-toggleable__label .caption {\n",
              "  font-size: 0.6rem;\n",
              "  font-weight: lighter;\n",
              "  color: var(--sklearn-color-text-muted);\n",
              "}\n",
              "\n",
              "#sk-container-id-1 label.sk-toggleable__label-arrow:before {\n",
              "  /* Arrow on the left of the label */\n",
              "  content: \"▸\";\n",
              "  float: left;\n",
              "  margin-right: 0.25em;\n",
              "  color: var(--sklearn-color-icon);\n",
              "}\n",
              "\n",
              "#sk-container-id-1 label.sk-toggleable__label-arrow:hover:before {\n",
              "  color: var(--sklearn-color-text);\n",
              "}\n",
              "\n",
              "/* Toggleable content - dropdown */\n",
              "\n",
              "#sk-container-id-1 div.sk-toggleable__content {\n",
              "  max-height: 0;\n",
              "  max-width: 0;\n",
              "  overflow: hidden;\n",
              "  text-align: left;\n",
              "  /* unfitted */\n",
              "  background-color: var(--sklearn-color-unfitted-level-0);\n",
              "}\n",
              "\n",
              "#sk-container-id-1 div.sk-toggleable__content.fitted {\n",
              "  /* fitted */\n",
              "  background-color: var(--sklearn-color-fitted-level-0);\n",
              "}\n",
              "\n",
              "#sk-container-id-1 div.sk-toggleable__content pre {\n",
              "  margin: 0.2em;\n",
              "  border-radius: 0.25em;\n",
              "  color: var(--sklearn-color-text);\n",
              "  /* unfitted */\n",
              "  background-color: var(--sklearn-color-unfitted-level-0);\n",
              "}\n",
              "\n",
              "#sk-container-id-1 div.sk-toggleable__content.fitted pre {\n",
              "  /* unfitted */\n",
              "  background-color: var(--sklearn-color-fitted-level-0);\n",
              "}\n",
              "\n",
              "#sk-container-id-1 input.sk-toggleable__control:checked~div.sk-toggleable__content {\n",
              "  /* Expand drop-down */\n",
              "  max-height: 200px;\n",
              "  max-width: 100%;\n",
              "  overflow: auto;\n",
              "}\n",
              "\n",
              "#sk-container-id-1 input.sk-toggleable__control:checked~label.sk-toggleable__label-arrow:before {\n",
              "  content: \"▾\";\n",
              "}\n",
              "\n",
              "/* Pipeline/ColumnTransformer-specific style */\n",
              "\n",
              "#sk-container-id-1 div.sk-label input.sk-toggleable__control:checked~label.sk-toggleable__label {\n",
              "  color: var(--sklearn-color-text);\n",
              "  background-color: var(--sklearn-color-unfitted-level-2);\n",
              "}\n",
              "\n",
              "#sk-container-id-1 div.sk-label.fitted input.sk-toggleable__control:checked~label.sk-toggleable__label {\n",
              "  background-color: var(--sklearn-color-fitted-level-2);\n",
              "}\n",
              "\n",
              "/* Estimator-specific style */\n",
              "\n",
              "/* Colorize estimator box */\n",
              "#sk-container-id-1 div.sk-estimator input.sk-toggleable__control:checked~label.sk-toggleable__label {\n",
              "  /* unfitted */\n",
              "  background-color: var(--sklearn-color-unfitted-level-2);\n",
              "}\n",
              "\n",
              "#sk-container-id-1 div.sk-estimator.fitted input.sk-toggleable__control:checked~label.sk-toggleable__label {\n",
              "  /* fitted */\n",
              "  background-color: var(--sklearn-color-fitted-level-2);\n",
              "}\n",
              "\n",
              "#sk-container-id-1 div.sk-label label.sk-toggleable__label,\n",
              "#sk-container-id-1 div.sk-label label {\n",
              "  /* The background is the default theme color */\n",
              "  color: var(--sklearn-color-text-on-default-background);\n",
              "}\n",
              "\n",
              "/* On hover, darken the color of the background */\n",
              "#sk-container-id-1 div.sk-label:hover label.sk-toggleable__label {\n",
              "  color: var(--sklearn-color-text);\n",
              "  background-color: var(--sklearn-color-unfitted-level-2);\n",
              "}\n",
              "\n",
              "/* Label box, darken color on hover, fitted */\n",
              "#sk-container-id-1 div.sk-label.fitted:hover label.sk-toggleable__label.fitted {\n",
              "  color: var(--sklearn-color-text);\n",
              "  background-color: var(--sklearn-color-fitted-level-2);\n",
              "}\n",
              "\n",
              "/* Estimator label */\n",
              "\n",
              "#sk-container-id-1 div.sk-label label {\n",
              "  font-family: monospace;\n",
              "  font-weight: bold;\n",
              "  display: inline-block;\n",
              "  line-height: 1.2em;\n",
              "}\n",
              "\n",
              "#sk-container-id-1 div.sk-label-container {\n",
              "  text-align: center;\n",
              "}\n",
              "\n",
              "/* Estimator-specific */\n",
              "#sk-container-id-1 div.sk-estimator {\n",
              "  font-family: monospace;\n",
              "  border: 1px dotted var(--sklearn-color-border-box);\n",
              "  border-radius: 0.25em;\n",
              "  box-sizing: border-box;\n",
              "  margin-bottom: 0.5em;\n",
              "  /* unfitted */\n",
              "  background-color: var(--sklearn-color-unfitted-level-0);\n",
              "}\n",
              "\n",
              "#sk-container-id-1 div.sk-estimator.fitted {\n",
              "  /* fitted */\n",
              "  background-color: var(--sklearn-color-fitted-level-0);\n",
              "}\n",
              "\n",
              "/* on hover */\n",
              "#sk-container-id-1 div.sk-estimator:hover {\n",
              "  /* unfitted */\n",
              "  background-color: var(--sklearn-color-unfitted-level-2);\n",
              "}\n",
              "\n",
              "#sk-container-id-1 div.sk-estimator.fitted:hover {\n",
              "  /* fitted */\n",
              "  background-color: var(--sklearn-color-fitted-level-2);\n",
              "}\n",
              "\n",
              "/* Specification for estimator info (e.g. \"i\" and \"?\") */\n",
              "\n",
              "/* Common style for \"i\" and \"?\" */\n",
              "\n",
              ".sk-estimator-doc-link,\n",
              "a:link.sk-estimator-doc-link,\n",
              "a:visited.sk-estimator-doc-link {\n",
              "  float: right;\n",
              "  font-size: smaller;\n",
              "  line-height: 1em;\n",
              "  font-family: monospace;\n",
              "  background-color: var(--sklearn-color-background);\n",
              "  border-radius: 1em;\n",
              "  height: 1em;\n",
              "  width: 1em;\n",
              "  text-decoration: none !important;\n",
              "  margin-left: 0.5em;\n",
              "  text-align: center;\n",
              "  /* unfitted */\n",
              "  border: var(--sklearn-color-unfitted-level-1) 1pt solid;\n",
              "  color: var(--sklearn-color-unfitted-level-1);\n",
              "}\n",
              "\n",
              ".sk-estimator-doc-link.fitted,\n",
              "a:link.sk-estimator-doc-link.fitted,\n",
              "a:visited.sk-estimator-doc-link.fitted {\n",
              "  /* fitted */\n",
              "  border: var(--sklearn-color-fitted-level-1) 1pt solid;\n",
              "  color: var(--sklearn-color-fitted-level-1);\n",
              "}\n",
              "\n",
              "/* On hover */\n",
              "div.sk-estimator:hover .sk-estimator-doc-link:hover,\n",
              ".sk-estimator-doc-link:hover,\n",
              "div.sk-label-container:hover .sk-estimator-doc-link:hover,\n",
              ".sk-estimator-doc-link:hover {\n",
              "  /* unfitted */\n",
              "  background-color: var(--sklearn-color-unfitted-level-3);\n",
              "  color: var(--sklearn-color-background);\n",
              "  text-decoration: none;\n",
              "}\n",
              "\n",
              "div.sk-estimator.fitted:hover .sk-estimator-doc-link.fitted:hover,\n",
              ".sk-estimator-doc-link.fitted:hover,\n",
              "div.sk-label-container:hover .sk-estimator-doc-link.fitted:hover,\n",
              ".sk-estimator-doc-link.fitted:hover {\n",
              "  /* fitted */\n",
              "  background-color: var(--sklearn-color-fitted-level-3);\n",
              "  color: var(--sklearn-color-background);\n",
              "  text-decoration: none;\n",
              "}\n",
              "\n",
              "/* Span, style for the box shown on hovering the info icon */\n",
              ".sk-estimator-doc-link span {\n",
              "  display: none;\n",
              "  z-index: 9999;\n",
              "  position: relative;\n",
              "  font-weight: normal;\n",
              "  right: .2ex;\n",
              "  padding: .5ex;\n",
              "  margin: .5ex;\n",
              "  width: min-content;\n",
              "  min-width: 20ex;\n",
              "  max-width: 50ex;\n",
              "  color: var(--sklearn-color-text);\n",
              "  box-shadow: 2pt 2pt 4pt #999;\n",
              "  /* unfitted */\n",
              "  background: var(--sklearn-color-unfitted-level-0);\n",
              "  border: .5pt solid var(--sklearn-color-unfitted-level-3);\n",
              "}\n",
              "\n",
              ".sk-estimator-doc-link.fitted span {\n",
              "  /* fitted */\n",
              "  background: var(--sklearn-color-fitted-level-0);\n",
              "  border: var(--sklearn-color-fitted-level-3);\n",
              "}\n",
              "\n",
              ".sk-estimator-doc-link:hover span {\n",
              "  display: block;\n",
              "}\n",
              "\n",
              "/* \"?\"-specific style due to the `<a>` HTML tag */\n",
              "\n",
              "#sk-container-id-1 a.estimator_doc_link {\n",
              "  float: right;\n",
              "  font-size: 1rem;\n",
              "  line-height: 1em;\n",
              "  font-family: monospace;\n",
              "  background-color: var(--sklearn-color-background);\n",
              "  border-radius: 1rem;\n",
              "  height: 1rem;\n",
              "  width: 1rem;\n",
              "  text-decoration: none;\n",
              "  /* unfitted */\n",
              "  color: var(--sklearn-color-unfitted-level-1);\n",
              "  border: var(--sklearn-color-unfitted-level-1) 1pt solid;\n",
              "}\n",
              "\n",
              "#sk-container-id-1 a.estimator_doc_link.fitted {\n",
              "  /* fitted */\n",
              "  border: var(--sklearn-color-fitted-level-1) 1pt solid;\n",
              "  color: var(--sklearn-color-fitted-level-1);\n",
              "}\n",
              "\n",
              "/* On hover */\n",
              "#sk-container-id-1 a.estimator_doc_link:hover {\n",
              "  /* unfitted */\n",
              "  background-color: var(--sklearn-color-unfitted-level-3);\n",
              "  color: var(--sklearn-color-background);\n",
              "  text-decoration: none;\n",
              "}\n",
              "\n",
              "#sk-container-id-1 a.estimator_doc_link.fitted:hover {\n",
              "  /* fitted */\n",
              "  background-color: var(--sklearn-color-fitted-level-3);\n",
              "}\n",
              "</style><div id=\"sk-container-id-1\" class=\"sk-top-container\"><div class=\"sk-text-repr-fallback\"><pre>SVC(kernel=&#x27;linear&#x27;, random_state=42)</pre><b>In a Jupyter environment, please rerun this cell to show the HTML representation or trust the notebook. <br />On GitHub, the HTML representation is unable to render, please try loading this page with nbviewer.org.</b></div><div class=\"sk-container\" hidden><div class=\"sk-item\"><div class=\"sk-estimator fitted sk-toggleable\"><input class=\"sk-toggleable__control sk-hidden--visually\" id=\"sk-estimator-id-1\" type=\"checkbox\" checked><label for=\"sk-estimator-id-1\" class=\"sk-toggleable__label fitted sk-toggleable__label-arrow\"><div><div>SVC</div></div><div><a class=\"sk-estimator-doc-link fitted\" rel=\"noreferrer\" target=\"_blank\" href=\"https://scikit-learn.org/1.6/modules/generated/sklearn.svm.SVC.html\">?<span>Documentation for SVC</span></a><span class=\"sk-estimator-doc-link fitted\">i<span>Fitted</span></span></div></label><div class=\"sk-toggleable__content fitted\"><pre>SVC(kernel=&#x27;linear&#x27;, random_state=42)</pre></div> </div></div></div></div>"
            ]
          },
          "metadata": {},
          "execution_count": 12
        }
      ]
    },
    {
      "cell_type": "markdown",
      "source": [
        "## **2️⃣ Latih model menggunakan data latih**"
      ],
      "metadata": {
        "id": "SigA0FnD8L2U"
      }
    },
    {
      "cell_type": "code",
      "source": [
        "y_train_pred_svm = svm_model.predict(X_train)\n",
        "accuracy_train = accuracy_score(y_train, y_train_pred_svm)\n",
        "print(f\"Akurasi pada data latih menggunakan SVM: {accuracy_train:.4f}\")"
      ],
      "metadata": {
        "colab": {
          "base_uri": "https://localhost:8080/"
        },
        "id": "v9xSFMjeeVIH",
        "outputId": "74b6f68e-1215-4112-f5d6-b31e03d1cefc"
      },
      "execution_count": null,
      "outputs": [
        {
          "output_type": "stream",
          "name": "stdout",
          "text": [
            "Akurasi pada data latih menggunakan SVM: 0.9067\n"
          ]
        }
      ]
    },
    {
      "cell_type": "code",
      "source": [
        "report_train = classification_report(y_train, y_train_pred_svm, digits=4)\n",
        "print(\"Classification Report untuk Data Latih menggunakan SVM:\")\n",
        "print(report_train)"
      ],
      "metadata": {
        "colab": {
          "base_uri": "https://localhost:8080/"
        },
        "id": "vCWTi60FeVqv",
        "outputId": "449130c0-e9fe-432e-ddc2-1b046e703078"
      },
      "execution_count": null,
      "outputs": [
        {
          "output_type": "stream",
          "name": "stdout",
          "text": [
            "Classification Report untuk Data Latih menggunakan SVM:\n",
            "              precision    recall  f1-score   support\n",
            "\n",
            "           0     0.8510    0.7135    0.7762      1417\n",
            "           1     0.9198    0.9634    0.9411      4831\n",
            "\n",
            "    accuracy                         0.9067      6248\n",
            "   macro avg     0.8854    0.8384    0.8586      6248\n",
            "weighted avg     0.9042    0.9067    0.9037      6248\n",
            "\n"
          ]
        }
      ]
    },
    {
      "cell_type": "markdown",
      "source": [
        "## **3️⃣ Latih model menggunakan data uji**"
      ],
      "metadata": {
        "id": "JZefR_Uu9TKR"
      }
    },
    {
      "cell_type": "code",
      "source": [
        "y_test_pred_svm = svm_model.predict(X_test)\n",
        "accuracy_test_svm = accuracy_score(y_test, y_test_pred_svm)\n",
        "print(f\"Akurasi pada data uji menggunakan SVM: {accuracy_test_svm:.4f}\")"
      ],
      "metadata": {
        "colab": {
          "base_uri": "https://localhost:8080/"
        },
        "id": "k-CPu76iecWl",
        "outputId": "4ff728e9-7f9c-4fb8-9b65-23e3d1c108f9"
      },
      "execution_count": null,
      "outputs": [
        {
          "output_type": "stream",
          "name": "stdout",
          "text": [
            "Akurasi pada data uji menggunakan SVM: 0.8937\n"
          ]
        }
      ]
    },
    {
      "cell_type": "code",
      "source": [
        "report_test_svm = classification_report(y_test, y_test_pred_svm, digits=4)\n",
        "print(\"Classification Report untuk Data Uji menggunakan SVM:\")\n",
        "print(report_test_svm)"
      ],
      "metadata": {
        "colab": {
          "base_uri": "https://localhost:8080/"
        },
        "id": "3427NwfRecsc",
        "outputId": "fe51c30b-4ab3-4f60-bbec-e772b3f7f9e7"
      },
      "execution_count": null,
      "outputs": [
        {
          "output_type": "stream",
          "name": "stdout",
          "text": [
            "Classification Report untuk Data Uji menggunakan SVM:\n",
            "              precision    recall  f1-score   support\n",
            "\n",
            "           0     0.8044    0.7103    0.7544       359\n",
            "           1     0.9165    0.9485    0.9322      1203\n",
            "\n",
            "    accuracy                         0.8937      1562\n",
            "   macro avg     0.8604    0.8294    0.8433      1562\n",
            "weighted avg     0.8907    0.8937    0.8913      1562\n",
            "\n"
          ]
        }
      ]
    },
    {
      "cell_type": "code",
      "source": [
        "conf_matrix_svm = confusion_matrix(y_test, y_test_pred_svm)\n",
        "disp_svm = ConfusionMatrixDisplay(confusion_matrix=conf_matrix_svm, display_labels=svm_model.classes_)\n",
        "disp_svm.plot(cmap='Blues')\n",
        "plt.show()"
      ],
      "metadata": {
        "colab": {
          "base_uri": "https://localhost:8080/",
          "height": 449
        },
        "id": "OX1wLEUtejUq",
        "outputId": "e0a8406e-a132-47d6-cd63-fe017b4c4461"
      },
      "execution_count": null,
      "outputs": [
        {
          "output_type": "display_data",
          "data": {
            "text/plain": [
              "<Figure size 640x480 with 2 Axes>"
            ],
            "image/png": "[encoded data removed]"
          },
          "metadata": {}
        }
      ]
    },
    {
      "cell_type": "markdown",
      "source": [
        "## **4️⃣ Mengecek Underfiting dan overfitting Model**"
      ],
      "metadata": {
        "id": "dTWbQZm49kbS"
      }
    },
    {
      "cell_type": "code",
      "source": [
        "svm_model = SVC(kernel='linear', random_state=42)\n",
        "train_sizes, train_scores, test_scores = learning_curve(svm_model, X_train, y_train, cv=5)\n",
        "\n",
        "plt.plot(train_sizes, train_scores.mean(axis=1), label='Data Latih', color='blue')\n",
        "plt.plot(train_sizes, test_scores.mean(axis=1), label='Data Uji', color='green')\n",
        "\n",
        "plt.title('Learning Curve - SVM')\n",
        "plt.xlabel('Jumlah Data Latih')\n",
        "plt.ylabel('Skor Akurasi')\n",
        "plt.legend(loc='best')\n",
        "plt.grid(True)\n",
        "plt.tight_layout()\n",
        "plt.show()"
      ],
      "metadata": {
        "colab": {
          "base_uri": "https://localhost:8080/",
          "height": 487
        },
        "id": "KU3goFdKerEN",
        "outputId": "f55f90d0-3771-49e3-9ec5-d8d81506392f"
      },
      "execution_count": null,
      "outputs": [
        {
          "output_type": "display_data",
          "data": {
            "text/plain": [
              "<Figure size 640x480 with 1 Axes>"
            ],
            "image/png": "[encoded data removed]"
          },
          "metadata": {}
        }
      ]
    },
    {
      "cell_type": "markdown",
      "source": [
        "## **5️⃣ Menampilkan Prediksi Kategori Film Teratas**"
      ],
      "metadata": {
        "id": "RpELnTVh9zHk"
      }
    },
    {
      "cell_type": "code",
      "source": [
        "svm_model.fit(X_train, y_train)\n",
        "klas_df['like'] = svm_model.predict(X)\n",
        "category_popularity = klas_df.groupby(['listed_in', 'like']).size().unstack(fill_value=0)\n",
        "top_10_categories = category_popularity['0'].sort_values(ascending=False).head(10)\n",
        "\n",
        "print(\"\\nPrediksi 10 Kategori film yang disukai pelanggan kedepannya dengan SVM Berdasarkan Karakteristik:\")\n",
        "print(top_10_categories)"
      ],
      "metadata": {
        "colab": {
          "base_uri": "https://localhost:8080/"
        },
        "id": "7M1Kf8UZ-WU_",
        "outputId": "333f680f-cb06-4c38-c54d-81ae05ea2870"
      },
      "execution_count": null,
      "outputs": [
        {
          "output_type": "stream",
          "name": "stdout",
          "text": [
            "\n",
            "Prediksi 10 Kategori film yang disukai pelanggan kedepannya dengan SVM Berdasarkan Karakteristik:\n",
            "listed_in\n",
            "International         556\n",
            "Others                450\n",
            "Drama                 239\n",
            "Horror & Thriller     179\n",
            "Music & Dance          61\n",
            "Family & Kids          12\n",
            "Sci-Fi & Fantasy        6\n",
            "Sports & Fitness        2\n",
            "Action & Adventure      0\n",
            "Anime & Animation       0\n",
            "Name: 0, dtype: int64\n"
          ]
        }
      ]
    },
    {
      "cell_type": "code",
      "source": [
        "plt.figure(figsize=(10, 6))\n",
        "sns.barplot(x=top_10_categories.index, y=top_10_categories.values)\n",
        "\n",
        "for index, value in enumerate(top_10_categories.values):\n",
        "    plt.text(index, value + 10, str(value), ha='center', va='bottom', fontsize=12)\n",
        "\n",
        "plt.title('Prediksi 10 Kategori film yang disukai pelanggan kedepannya dengan SVM Berdasarkan Karakteristik', fontsize=16)\n",
        "plt.xlabel('Kategori Genre Film', fontsize=12)\n",
        "plt.ylabel('Jumlah Yang Diperkirakan Akan Disukai', fontsize=12)\n",
        "plt.xticks(rotation=45, ha='right')\n",
        "plt.tight_layout()\n",
        "plt.show()"
      ],
      "metadata": {
        "colab": {
          "base_uri": "https://localhost:8080/",
          "height": 607
        },
        "id": "p-ES_30X9wH7",
        "outputId": "920d1940-c7bf-43bd-a708-bd08b1a082ae"
      },
      "execution_count": null,
      "outputs": [
        {
          "output_type": "display_data",
          "data": {
            "text/plain": [
              "<Figure size 1000x600 with 1 Axes>"
            ],
            "image/png": "[encoded data removed]"
          },
          "metadata": {}
        }
      ]
    },
    {
      "cell_type": "markdown",
      "source": [
        "# **6. Pengoptimalan Hyperparameter Setelah Tuning Model**"
      ],
      "metadata": {
        "id": "ROaA6umQGoge"
      }
    },
    {
      "cell_type": "markdown",
      "source": [
        "## **1️⃣ Pemilihan Hyperparameter Yang Sesuai**"
      ],
      "metadata": {
        "id": "omBNO8I_H8Gc"
      }
    },
    {
      "cell_type": "markdown",
      "source": [
        "**RandomizedSearchCV** dipilih karena lebih efisien dibandingkan GridSearchCV, terutama untuk dataset besar atau parameter yang kompleks. Metode ini mencari kombinasi parameter secara acak, mengurangi waktu komputasi, dan tetap menemukan hyperparameter optimal."
      ],
      "metadata": {
        "id": "eQpo_lIHIIP_"
      }
    },
    {
      "cell_type": "markdown",
      "source": [
        "## **2️⃣ Sebelum Dilakukan Penerapan RandomizedSearchCV**"
      ],
      "metadata": {
        "id": "6rhFcL9mGyc6"
      }
    },
    {
      "cell_type": "code",
      "source": [
        "for y_true, y_pred, label in [(y_train, y_train_pred_svm, 'Latih SVM'), (y_test, y_test_pred_svm, 'Prediksi SVM')]:\n",
        "    print(f\"\\n{label}:\")\n",
        "    print(f\"Akurasi: {accuracy_score(y_true, y_pred):.4f}\")\n",
        "    print(f\"Precision: {precision_score(y_true, y_pred, average='weighted'):.4f}\")\n",
        "    print(f\"Recall: {recall_score(y_true, y_pred, average='weighted'):.4f}\")\n",
        "    print(f\"F1-Score: {f1_score(y_true, y_pred, average='weighted'):.4f}\")"
      ],
      "metadata": {
        "colab": {
          "base_uri": "https://localhost:8080/"
        },
        "id": "Z5Y2L0eUGxOy",
        "outputId": "bd07da81-d69d-4189-c01b-c0eed02513a4"
      },
      "execution_count": null,
      "outputs": [
        {
          "output_type": "stream",
          "name": "stdout",
          "text": [
            "\n",
            "Latih SVM:\n",
            "Akurasi: 0.9067\n",
            "Precision: 0.9042\n",
            "Recall: 0.9067\n",
            "F1-Score: 0.9037\n",
            "\n",
            "Prediksi SVM:\n",
            "Akurasi: 0.8937\n",
            "Precision: 0.8907\n",
            "Recall: 0.8937\n",
            "F1-Score: 0.8913\n"
          ]
        }
      ]
    },
    {
      "cell_type": "markdown",
      "source": [
        "## **3️⃣ Pengoptimalan SVM Dengan RandomizedSearchCV**"
      ],
      "metadata": {
        "id": "D0vplRnGGzU4"
      }
    },
    {
      "cell_type": "code",
      "source": [
        "param_dist = {\n",
        "    'C': [0.1, 1, 10, 100],\n",
        "    'kernel': ['linear', 'rbf', 'poly'],\n",
        "    'gamma': ['scale', 'auto', 0.01, 0.1, 1],\n",
        "    'degree': [2, 3, 4]\n",
        "}\n",
        "\n",
        "svm_model_tuned = SVC(random_state=42)\n",
        "random_search_tuned = RandomizedSearchCV(svm_model_tuned, param_distributions=param_dist,\n",
        "                                   n_iter=10, cv=5, scoring='accuracy',\n",
        "                                   random_state=42, n_jobs=-1)\n",
        "\n",
        "random_search_tuned.fit(X_train, y_train)\n",
        "print(\"Best Parameters:\", random_search_tuned.best_params_)"
      ],
      "metadata": {
        "colab": {
          "base_uri": "https://localhost:8080/"
        },
        "id": "pdkcF_t2Gy6W",
        "outputId": "e0d68f54-bc67-4728-8cca-42e44d074258"
      },
      "execution_count": null,
      "outputs": [
        {
          "output_type": "stream",
          "name": "stdout",
          "text": [
            "Best Parameters: {'kernel': 'rbf', 'gamma': 1, 'degree': 3, 'C': 10}\n"
          ]
        }
      ]
    },
    {
      "cell_type": "markdown",
      "source": [
        "## **4️⃣ Evaluasi SVM setelah penerapan RandomizedSearchCV**"
      ],
      "metadata": {
        "id": "vkbgY1z5G0nL"
      }
    },
    {
      "cell_type": "code",
      "source": [
        "best_svm_tuned = random_search_tuned.best_estimator_\n",
        "y_train_pred_svm_tuned = best_svm_tuned.predict(X_train)\n",
        "y_test_pred_svm_tuned = best_svm_tuned.predict(X_test)\n",
        "\n",
        "svm_accuracy_tuned = accuracy_score(y_test, y_test_pred_svm_tuned)\n",
        "svm_f1_tuned = f1_score(y_test, y_test_pred_svm_tuned, average='weighted')\n",
        "svm_precision_tuned = precision_score(y_test, y_test_pred_svm_tuned, average='weighted')\n",
        "svm_recall_tuned = recall_score(y_test, y_test_pred_svm_tuned, average='weighted')\n",
        "\n",
        "print(f\"\\nHasil SVM Tuned dengan RandomizedSearchCV\")\n",
        "print(f'SVM Tuned - Akurasi: {svm_accuracy_tuned:.4f}')\n",
        "print(f'SVM Tuned - F1-Score: {svm_f1_tuned:.4f}')\n",
        "print(f'SVM Tuned - Precision: {svm_precision_tuned:.4f}')\n",
        "print(f'SVM Tuned - Recall: {svm_recall_tuned:.4f}')"
      ],
      "metadata": {
        "colab": {
          "base_uri": "https://localhost:8080/"
        },
        "id": "BanmN_BtG1FX",
        "outputId": "129b1cf6-1232-4a14-c93a-616ec834efac"
      },
      "execution_count": null,
      "outputs": [
        {
          "output_type": "stream",
          "name": "stdout",
          "text": [
            "\n",
            "Hasil SVM Tuned dengan RandomizedSearchCV\n",
            "SVM Tuned - Akurasi: 0.9289\n",
            "SVM Tuned - F1-Score: 0.9251\n",
            "SVM Tuned - Precision: 0.9313\n",
            "SVM Tuned - Recall: 0.9289\n"
          ]
        }
      ]
    },
    {
      "cell_type": "code",
      "source": [
        "cm_tuned = confusion_matrix(y_test, y_test_pred_svm_tuned)\n",
        "plt.figure(figsize=(6, 5))\n",
        "sns.heatmap(cm_tuned, annot=True, fmt='d', cmap='Greens', xticklabels=set(y_test), yticklabels=set(y_test))\n",
        "plt.xlabel('Predicted Label')\n",
        "plt.ylabel('True Label')\n",
        "plt.title('Confusion Matrix - SVM Tuned')\n",
        "plt.show()"
      ],
      "metadata": {
        "colab": {
          "base_uri": "https://localhost:8080/",
          "height": 487
        },
        "id": "Xwr5LH6iG2XZ",
        "outputId": "7bbf6724-676c-4c02-def2-e8b7047a2096"
      },
      "execution_count": null,
      "outputs": [
        {
          "output_type": "display_data",
          "data": {
            "text/plain": [
              "<Figure size 600x500 with 2 Axes>"
            ],
            "image/png": "[encoded data removed]"
          },
          "metadata": {}
        }
      ]
    },
    {
      "cell_type": "markdown",
      "source": [
        "Penerapan **RandomizedSearchCV berhasil** meningkatkan performa SVM secara signifikan. **Akurasi naik dari 89.37% menjadi 92.89%,** dengan peningkatan pada Precision, Recall, dan F1-Score. Hal ini menunjukkan bahwa optimasi hyperparameter dapat meningkatkan kemampuan model dalam mengenali pola data dengan lebih baik."
      ],
      "metadata": {
        "id": "Uq2A7DRMOyZD"
      }
    },
    {
      "cell_type": "markdown",
      "source": [
        "# **7. Membangun Model Klasifikasi Tanpa Hasil Clustering**"
      ],
      "metadata": {
        "id": "LMPYmk0xGa1i"
      }
    },
    {
      "cell_type": "markdown",
      "source": [
        "## **0️⃣ Menetukan Fitur (Tanpa Clustering)**"
      ],
      "metadata": {
        "id": "QDl_vBMwGaO8"
      }
    },
    {
      "cell_type": "code",
      "source": [
        "def assign_popularity_no_cluster(row):\n",
        "    if row['rating'] >= 0.50 and row['genre_encoded'] >= 0.49:\n",
        "        return '0'\n",
        "    else:\n",
        "        return '1'\n",
        "\n",
        "klas_df['like_no_cluster'] = klas_df.apply(assign_popularity_no_cluster, axis=1)\n"
      ],
      "metadata": {
        "id": "-EjzZOBkYP3m"
      },
      "execution_count": null,
      "outputs": []
    },
    {
      "cell_type": "code",
      "source": [
        "all_features_no_cluster = ['release_year', 'duration_minutes', 'country_encoded', 'rating', 'genre_encoded']\n",
        "\n",
        "X_no_cluster = klas_df[all_features_no_cluster]\n",
        "y_no_cluster = klas_df['like_no_cluster']"
      ],
      "metadata": {
        "id": "iPn8YPEjvGpj"
      },
      "execution_count": null,
      "outputs": []
    },
    {
      "cell_type": "markdown",
      "source": [
        "## **1️⃣ Pisahkan Data Menjadi Train dan Test**"
      ],
      "metadata": {
        "id": "Mt7AlyhOZfIi"
      }
    },
    {
      "cell_type": "code",
      "source": [
        "from sklearn.model_selection import train_test_split\n",
        "\n",
        "X_train_no_cluster, X_test_no_cluster, y_train_no_cluster, y_test_no_cluster = train_test_split(\n",
        "    X_no_cluster, y_no_cluster, test_size=0.2, random_state=42\n",
        ")"
      ],
      "metadata": {
        "id": "hPG2HTfNYOgm"
      },
      "execution_count": null,
      "outputs": []
    },
    {
      "cell_type": "code",
      "source": [
        "print(\"Distribusi Target pada Training Set Tanpa Clustering:\")\n",
        "print(y_train_no_cluster.value_counts())"
      ],
      "metadata": {
        "colab": {
          "base_uri": "https://localhost:8080/"
        },
        "id": "GoMmaQ2WZi4z",
        "outputId": "1e71f6d5-1efd-49c6-9423-921567d9718f"
      },
      "execution_count": null,
      "outputs": [
        {
          "output_type": "stream",
          "name": "stdout",
          "text": [
            "Distribusi Target pada Training Set Tanpa Clustering:\n",
            "like_no_cluster\n",
            "1    4831\n",
            "0    1417\n",
            "Name: count, dtype: int64\n"
          ]
        }
      ]
    },
    {
      "cell_type": "code",
      "source": [
        "print(\"\\nDistribusi Target pada Test Set Tanpa Clustering:\")\n",
        "print(y_test_no_cluster.value_counts())"
      ],
      "metadata": {
        "colab": {
          "base_uri": "https://localhost:8080/"
        },
        "id": "wjNgz6CLZjRn",
        "outputId": "6d28fb82-7127-4142-8658-73d3067476a6"
      },
      "execution_count": null,
      "outputs": [
        {
          "output_type": "stream",
          "name": "stdout",
          "text": [
            "\n",
            "Distribusi Target pada Test Set Tanpa Clustering:\n",
            "like_no_cluster\n",
            "1    1203\n",
            "0     359\n",
            "Name: count, dtype: int64\n"
          ]
        }
      ]
    },
    {
      "cell_type": "markdown",
      "source": [
        "## **2️⃣ Latih Model SVM (Tanpa Clustering)**"
      ],
      "metadata": {
        "id": "7KxQaD7uZu7k"
      }
    },
    {
      "cell_type": "code",
      "source": [
        "svm_model_no_cluster = SVC(kernel='linear', random_state=42)\n",
        "svm_model_no_cluster.fit(X_train_no_cluster, y_train_no_cluster)"
      ],
      "metadata": {
        "colab": {
          "base_uri": "https://localhost:8080/",
          "height": 81
        },
        "id": "UynJLpD8ZvYV",
        "outputId": "7a57ec5f-fb8c-4d30-996f-698624fd97a8"
      },
      "execution_count": null,
      "outputs": [
        {
          "output_type": "execute_result",
          "data": {
            "text/plain": [
              "SVC(kernel='linear', random_state=42)"
            ],
            "text/html": [
              "<style>#sk-container-id-2 {\n",
              "  /* Definition of color scheme common for light and dark mode */\n",
              "  --sklearn-color-text: #000;\n",
              "  --sklearn-color-text-muted: #666;\n",
              "  --sklearn-color-line: gray;\n",
              "  /* Definition of color scheme for unfitted estimators */\n",
              "  --sklearn-color-unfitted-level-0: #fff5e6;\n",
              "  --sklearn-color-unfitted-level-1: #f6e4d2;\n",
              "  --sklearn-color-unfitted-level-2: #ffe0b3;\n",
              "  --sklearn-color-unfitted-level-3: chocolate;\n",
              "  /* Definition of color scheme for fitted estimators */\n",
              "  --sklearn-color-fitted-level-0: #f0f8ff;\n",
              "  --sklearn-color-fitted-level-1: #d4ebff;\n",
              "  --sklearn-color-fitted-level-2: #b3dbfd;\n",
              "  --sklearn-color-fitted-level-3: cornflowerblue;\n",
              "\n",
              "  /* Specific color for light theme */\n",
              "  --sklearn-color-text-on-default-background: var(--sg-text-color, var(--theme-code-foreground, var(--jp-content-font-color1, black)));\n",
              "  --sklearn-color-background: var(--sg-background-color, var(--theme-background, var(--jp-layout-color0, white)));\n",
              "  --sklearn-color-border-box: var(--sg-text-color, var(--theme-code-foreground, var(--jp-content-font-color1, black)));\n",
              "  --sklearn-color-icon: #696969;\n",
              "\n",
              "  @media (prefers-color-scheme: dark) {\n",
              "    /* Redefinition of color scheme for dark theme */\n",
              "    --sklearn-color-text-on-default-background: var(--sg-text-color, var(--theme-code-foreground, var(--jp-content-font-color1, white)));\n",
              "    --sklearn-color-background: var(--sg-background-color, var(--theme-background, var(--jp-layout-color0, #111)));\n",
              "    --sklearn-color-border-box: var(--sg-text-color, var(--theme-code-foreground, var(--jp-content-font-color1, white)));\n",
              "    --sklearn-color-icon: #878787;\n",
              "  }\n",
              "}\n",
              "\n",
              "#sk-container-id-2 {\n",
              "  color: var(--sklearn-color-text);\n",
              "}\n",
              "\n",
              "#sk-container-id-2 pre {\n",
              "  padding: 0;\n",
              "}\n",
              "\n",
              "#sk-container-id-2 input.sk-hidden--visually {\n",
              "  border: 0;\n",
              "  clip: rect(1px 1px 1px 1px);\n",
              "  clip: rect(1px, 1px, 1px, 1px);\n",
              "  height: 1px;\n",
              "  margin: -1px;\n",
              "  overflow: hidden;\n",
              "  padding: 0;\n",
              "  position: absolute;\n",
              "  width: 1px;\n",
              "}\n",
              "\n",
              "#sk-container-id-2 div.sk-dashed-wrapped {\n",
              "  border: 1px dashed var(--sklearn-color-line);\n",
              "  margin: 0 0.4em 0.5em 0.4em;\n",
              "  box-sizing: border-box;\n",
              "  padding-bottom: 0.4em;\n",
              "  background-color: var(--sklearn-color-background);\n",
              "}\n",
              "\n",
              "#sk-container-id-2 div.sk-container {\n",
              "  /* jupyter's `normalize.less` sets `[hidden] { display: none; }`\n",
              "     but bootstrap.min.css set `[hidden] { display: none !important; }`\n",
              "     so we also need the `!important` here to be able to override the\n",
              "     default hidden behavior on the sphinx rendered scikit-learn.org.\n",
              "     See: https://github.com/scikit-learn/scikit-learn/issues/21755 */\n",
              "  display: inline-block !important;\n",
              "  position: relative;\n",
              "}\n",
              "\n",
              "#sk-container-id-2 div.sk-text-repr-fallback {\n",
              "  display: none;\n",
              "}\n",
              "\n",
              "div.sk-parallel-item,\n",
              "div.sk-serial,\n",
              "div.sk-item {\n",
              "  /* draw centered vertical line to link estimators */\n",
              "  background-image: linear-gradient(var(--sklearn-color-text-on-default-background), var(--sklearn-color-text-on-default-background));\n",
              "  background-size: 2px 100%;\n",
              "  background-repeat: no-repeat;\n",
              "  background-position: center center;\n",
              "}\n",
              "\n",
              "/* Parallel-specific style estimator block */\n",
              "\n",
              "#sk-container-id-2 div.sk-parallel-item::after {\n",
              "  content: \"\";\n",
              "  width: 100%;\n",
              "  border-bottom: 2px solid var(--sklearn-color-text-on-default-background);\n",
              "  flex-grow: 1;\n",
              "}\n",
              "\n",
              "#sk-container-id-2 div.sk-parallel {\n",
              "  display: flex;\n",
              "  align-items: stretch;\n",
              "  justify-content: center;\n",
              "  background-color: var(--sklearn-color-background);\n",
              "  position: relative;\n",
              "}\n",
              "\n",
              "#sk-container-id-2 div.sk-parallel-item {\n",
              "  display: flex;\n",
              "  flex-direction: column;\n",
              "}\n",
              "\n",
              "#sk-container-id-2 div.sk-parallel-item:first-child::after {\n",
              "  align-self: flex-end;\n",
              "  width: 50%;\n",
              "}\n",
              "\n",
              "#sk-container-id-2 div.sk-parallel-item:last-child::after {\n",
              "  align-self: flex-start;\n",
              "  width: 50%;\n",
              "}\n",
              "\n",
              "#sk-container-id-2 div.sk-parallel-item:only-child::after {\n",
              "  width: 0;\n",
              "}\n",
              "\n",
              "/* Serial-specific style estimator block */\n",
              "\n",
              "#sk-container-id-2 div.sk-serial {\n",
              "  display: flex;\n",
              "  flex-direction: column;\n",
              "  align-items: center;\n",
              "  background-color: var(--sklearn-color-background);\n",
              "  padding-right: 1em;\n",
              "  padding-left: 1em;\n",
              "}\n",
              "\n",
              "\n",
              "/* Toggleable style: style used for estimator/Pipeline/ColumnTransformer box that is\n",
              "clickable and can be expanded/collapsed.\n",
              "- Pipeline and ColumnTransformer use this feature and define the default style\n",
              "- Estimators will overwrite some part of the style using the `sk-estimator` class\n",
              "*/\n",
              "\n",
              "/* Pipeline and ColumnTransformer style (default) */\n",
              "\n",
              "#sk-container-id-2 div.sk-toggleable {\n",
              "  /* Default theme specific background. It is overwritten whether we have a\n",
              "  specific estimator or a Pipeline/ColumnTransformer */\n",
              "  background-color: var(--sklearn-color-background);\n",
              "}\n",
              "\n",
              "/* Toggleable label */\n",
              "#sk-container-id-2 label.sk-toggleable__label {\n",
              "  cursor: pointer;\n",
              "  display: flex;\n",
              "  width: 100%;\n",
              "  margin-bottom: 0;\n",
              "  padding: 0.5em;\n",
              "  box-sizing: border-box;\n",
              "  text-align: center;\n",
              "  align-items: start;\n",
              "  justify-content: space-between;\n",
              "  gap: 0.5em;\n",
              "}\n",
              "\n",
              "#sk-container-id-2 label.sk-toggleable__label .caption {\n",
              "  font-size: 0.6rem;\n",
              "  font-weight: lighter;\n",
              "  color: var(--sklearn-color-text-muted);\n",
              "}\n",
              "\n",
              "#sk-container-id-2 label.sk-toggleable__label-arrow:before {\n",
              "  /* Arrow on the left of the label */\n",
              "  content: \"▸\";\n",
              "  float: left;\n",
              "  margin-right: 0.25em;\n",
              "  color: var(--sklearn-color-icon);\n",
              "}\n",
              "\n",
              "#sk-container-id-2 label.sk-toggleable__label-arrow:hover:before {\n",
              "  color: var(--sklearn-color-text);\n",
              "}\n",
              "\n",
              "/* Toggleable content - dropdown */\n",
              "\n",
              "#sk-container-id-2 div.sk-toggleable__content {\n",
              "  max-height: 0;\n",
              "  max-width: 0;\n",
              "  overflow: hidden;\n",
              "  text-align: left;\n",
              "  /* unfitted */\n",
              "  background-color: var(--sklearn-color-unfitted-level-0);\n",
              "}\n",
              "\n",
              "#sk-container-id-2 div.sk-toggleable__content.fitted {\n",
              "  /* fitted */\n",
              "  background-color: var(--sklearn-color-fitted-level-0);\n",
              "}\n",
              "\n",
              "#sk-container-id-2 div.sk-toggleable__content pre {\n",
              "  margin: 0.2em;\n",
              "  border-radius: 0.25em;\n",
              "  color: var(--sklearn-color-text);\n",
              "  /* unfitted */\n",
              "  background-color: var(--sklearn-color-unfitted-level-0);\n",
              "}\n",
              "\n",
              "#sk-container-id-2 div.sk-toggleable__content.fitted pre {\n",
              "  /* unfitted */\n",
              "  background-color: var(--sklearn-color-fitted-level-0);\n",
              "}\n",
              "\n",
              "#sk-container-id-2 input.sk-toggleable__control:checked~div.sk-toggleable__content {\n",
              "  /* Expand drop-down */\n",
              "  max-height: 200px;\n",
              "  max-width: 100%;\n",
              "  overflow: auto;\n",
              "}\n",
              "\n",
              "#sk-container-id-2 input.sk-toggleable__control:checked~label.sk-toggleable__label-arrow:before {\n",
              "  content: \"▾\";\n",
              "}\n",
              "\n",
              "/* Pipeline/ColumnTransformer-specific style */\n",
              "\n",
              "#sk-container-id-2 div.sk-label input.sk-toggleable__control:checked~label.sk-toggleable__label {\n",
              "  color: var(--sklearn-color-text);\n",
              "  background-color: var(--sklearn-color-unfitted-level-2);\n",
              "}\n",
              "\n",
              "#sk-container-id-2 div.sk-label.fitted input.sk-toggleable__control:checked~label.sk-toggleable__label {\n",
              "  background-color: var(--sklearn-color-fitted-level-2);\n",
              "}\n",
              "\n",
              "/* Estimator-specific style */\n",
              "\n",
              "/* Colorize estimator box */\n",
              "#sk-container-id-2 div.sk-estimator input.sk-toggleable__control:checked~label.sk-toggleable__label {\n",
              "  /* unfitted */\n",
              "  background-color: var(--sklearn-color-unfitted-level-2);\n",
              "}\n",
              "\n",
              "#sk-container-id-2 div.sk-estimator.fitted input.sk-toggleable__control:checked~label.sk-toggleable__label {\n",
              "  /* fitted */\n",
              "  background-color: var(--sklearn-color-fitted-level-2);\n",
              "}\n",
              "\n",
              "#sk-container-id-2 div.sk-label label.sk-toggleable__label,\n",
              "#sk-container-id-2 div.sk-label label {\n",
              "  /* The background is the default theme color */\n",
              "  color: var(--sklearn-color-text-on-default-background);\n",
              "}\n",
              "\n",
              "/* On hover, darken the color of the background */\n",
              "#sk-container-id-2 div.sk-label:hover label.sk-toggleable__label {\n",
              "  color: var(--sklearn-color-text);\n",
              "  background-color: var(--sklearn-color-unfitted-level-2);\n",
              "}\n",
              "\n",
              "/* Label box, darken color on hover, fitted */\n",
              "#sk-container-id-2 div.sk-label.fitted:hover label.sk-toggleable__label.fitted {\n",
              "  color: var(--sklearn-color-text);\n",
              "  background-color: var(--sklearn-color-fitted-level-2);\n",
              "}\n",
              "\n",
              "/* Estimator label */\n",
              "\n",
              "#sk-container-id-2 div.sk-label label {\n",
              "  font-family: monospace;\n",
              "  font-weight: bold;\n",
              "  display: inline-block;\n",
              "  line-height: 1.2em;\n",
              "}\n",
              "\n",
              "#sk-container-id-2 div.sk-label-container {\n",
              "  text-align: center;\n",
              "}\n",
              "\n",
              "/* Estimator-specific */\n",
              "#sk-container-id-2 div.sk-estimator {\n",
              "  font-family: monospace;\n",
              "  border: 1px dotted var(--sklearn-color-border-box);\n",
              "  border-radius: 0.25em;\n",
              "  box-sizing: border-box;\n",
              "  margin-bottom: 0.5em;\n",
              "  /* unfitted */\n",
              "  background-color: var(--sklearn-color-unfitted-level-0);\n",
              "}\n",
              "\n",
              "#sk-container-id-2 div.sk-estimator.fitted {\n",
              "  /* fitted */\n",
              "  background-color: var(--sklearn-color-fitted-level-0);\n",
              "}\n",
              "\n",
              "/* on hover */\n",
              "#sk-container-id-2 div.sk-estimator:hover {\n",
              "  /* unfitted */\n",
              "  background-color: var(--sklearn-color-unfitted-level-2);\n",
              "}\n",
              "\n",
              "#sk-container-id-2 div.sk-estimator.fitted:hover {\n",
              "  /* fitted */\n",
              "  background-color: var(--sklearn-color-fitted-level-2);\n",
              "}\n",
              "\n",
              "/* Specification for estimator info (e.g. \"i\" and \"?\") */\n",
              "\n",
              "/* Common style for \"i\" and \"?\" */\n",
              "\n",
              ".sk-estimator-doc-link,\n",
              "a:link.sk-estimator-doc-link,\n",
              "a:visited.sk-estimator-doc-link {\n",
              "  float: right;\n",
              "  font-size: smaller;\n",
              "  line-height: 1em;\n",
              "  font-family: monospace;\n",
              "  background-color: var(--sklearn-color-background);\n",
              "  border-radius: 1em;\n",
              "  height: 1em;\n",
              "  width: 1em;\n",
              "  text-decoration: none !important;\n",
              "  margin-left: 0.5em;\n",
              "  text-align: center;\n",
              "  /* unfitted */\n",
              "  border: var(--sklearn-color-unfitted-level-1) 1pt solid;\n",
              "  color: var(--sklearn-color-unfitted-level-1);\n",
              "}\n",
              "\n",
              ".sk-estimator-doc-link.fitted,\n",
              "a:link.sk-estimator-doc-link.fitted,\n",
              "a:visited.sk-estimator-doc-link.fitted {\n",
              "  /* fitted */\n",
              "  border: var(--sklearn-color-fitted-level-1) 1pt solid;\n",
              "  color: var(--sklearn-color-fitted-level-1);\n",
              "}\n",
              "\n",
              "/* On hover */\n",
              "div.sk-estimator:hover .sk-estimator-doc-link:hover,\n",
              ".sk-estimator-doc-link:hover,\n",
              "div.sk-label-container:hover .sk-estimator-doc-link:hover,\n",
              ".sk-estimator-doc-link:hover {\n",
              "  /* unfitted */\n",
              "  background-color: var(--sklearn-color-unfitted-level-3);\n",
              "  color: var(--sklearn-color-background);\n",
              "  text-decoration: none;\n",
              "}\n",
              "\n",
              "div.sk-estimator.fitted:hover .sk-estimator-doc-link.fitted:hover,\n",
              ".sk-estimator-doc-link.fitted:hover,\n",
              "div.sk-label-container:hover .sk-estimator-doc-link.fitted:hover,\n",
              ".sk-estimator-doc-link.fitted:hover {\n",
              "  /* fitted */\n",
              "  background-color: var(--sklearn-color-fitted-level-3);\n",
              "  color: var(--sklearn-color-background);\n",
              "  text-decoration: none;\n",
              "}\n",
              "\n",
              "/* Span, style for the box shown on hovering the info icon */\n",
              ".sk-estimator-doc-link span {\n",
              "  display: none;\n",
              "  z-index: 9999;\n",
              "  position: relative;\n",
              "  font-weight: normal;\n",
              "  right: .2ex;\n",
              "  padding: .5ex;\n",
              "  margin: .5ex;\n",
              "  width: min-content;\n",
              "  min-width: 20ex;\n",
              "  max-width: 50ex;\n",
              "  color: var(--sklearn-color-text);\n",
              "  box-shadow: 2pt 2pt 4pt #999;\n",
              "  /* unfitted */\n",
              "  background: var(--sklearn-color-unfitted-level-0);\n",
              "  border: .5pt solid var(--sklearn-color-unfitted-level-3);\n",
              "}\n",
              "\n",
              ".sk-estimator-doc-link.fitted span {\n",
              "  /* fitted */\n",
              "  background: var(--sklearn-color-fitted-level-0);\n",
              "  border: var(--sklearn-color-fitted-level-3);\n",
              "}\n",
              "\n",
              ".sk-estimator-doc-link:hover span {\n",
              "  display: block;\n",
              "}\n",
              "\n",
              "/* \"?\"-specific style due to the `<a>` HTML tag */\n",
              "\n",
              "#sk-container-id-2 a.estimator_doc_link {\n",
              "  float: right;\n",
              "  font-size: 1rem;\n",
              "  line-height: 1em;\n",
              "  font-family: monospace;\n",
              "  background-color: var(--sklearn-color-background);\n",
              "  border-radius: 1rem;\n",
              "  height: 1rem;\n",
              "  width: 1rem;\n",
              "  text-decoration: none;\n",
              "  /* unfitted */\n",
              "  color: var(--sklearn-color-unfitted-level-1);\n",
              "  border: var(--sklearn-color-unfitted-level-1) 1pt solid;\n",
              "}\n",
              "\n",
              "#sk-container-id-2 a.estimator_doc_link.fitted {\n",
              "  /* fitted */\n",
              "  border: var(--sklearn-color-fitted-level-1) 1pt solid;\n",
              "  color: var(--sklearn-color-fitted-level-1);\n",
              "}\n",
              "\n",
              "/* On hover */\n",
              "#sk-container-id-2 a.estimator_doc_link:hover {\n",
              "  /* unfitted */\n",
              "  background-color: var(--sklearn-color-unfitted-level-3);\n",
              "  color: var(--sklearn-color-background);\n",
              "  text-decoration: none;\n",
              "}\n",
              "\n",
              "#sk-container-id-2 a.estimator_doc_link.fitted:hover {\n",
              "  /* fitted */\n",
              "  background-color: var(--sklearn-color-fitted-level-3);\n",
              "}\n",
              "</style><div id=\"sk-container-id-2\" class=\"sk-top-container\"><div class=\"sk-text-repr-fallback\"><pre>SVC(kernel=&#x27;linear&#x27;, random_state=42)</pre><b>In a Jupyter environment, please rerun this cell to show the HTML representation or trust the notebook. <br />On GitHub, the HTML representation is unable to render, please try loading this page with nbviewer.org.</b></div><div class=\"sk-container\" hidden><div class=\"sk-item\"><div class=\"sk-estimator fitted sk-toggleable\"><input class=\"sk-toggleable__control sk-hidden--visually\" id=\"sk-estimator-id-2\" type=\"checkbox\" checked><label for=\"sk-estimator-id-2\" class=\"sk-toggleable__label fitted sk-toggleable__label-arrow\"><div><div>SVC</div></div><div><a class=\"sk-estimator-doc-link fitted\" rel=\"noreferrer\" target=\"_blank\" href=\"https://scikit-learn.org/1.6/modules/generated/sklearn.svm.SVC.html\">?<span>Documentation for SVC</span></a><span class=\"sk-estimator-doc-link fitted\">i<span>Fitted</span></span></div></label><div class=\"sk-toggleable__content fitted\"><pre>SVC(kernel=&#x27;linear&#x27;, random_state=42)</pre></div> </div></div></div></div>"
            ]
          },
          "metadata": {},
          "execution_count": 30
        }
      ]
    },
    {
      "cell_type": "markdown",
      "source": [
        "## **3️⃣ Evaluasi Model (Tanpa Clustering)**"
      ],
      "metadata": {
        "id": "kRxupPFSZ_Rb"
      }
    },
    {
      "cell_type": "code",
      "source": [
        "y_train_pred_svm_no_cluster = svm_model_no_cluster.predict(X_train_no_cluster)\n",
        "y_test_pred_svm_no_cluster = svm_model_no_cluster.predict(X_test_no_cluster)"
      ],
      "metadata": {
        "id": "_f9_OtkEaLkj"
      },
      "execution_count": null,
      "outputs": []
    },
    {
      "cell_type": "code",
      "source": [
        "for y_true, y_pred, label in [(y_train_no_cluster, y_train_pred_svm_no_cluster, 'Latih SVM Tanpa Clustering'),\n",
        "                               (y_test_no_cluster, y_test_pred_svm_no_cluster, 'Prediksi SVM Tanpa Clustering')]:\n",
        "    print(f\"\\n{label}:\")\n",
        "    print(f\"Akurasi: {accuracy_score(y_true, y_pred):.4f}\")\n",
        "    print(f\"Precision: {precision_score(y_true, y_pred, average='weighted'):.4f}\")\n",
        "    print(f\"Recall: {recall_score(y_true, y_pred, average='weighted'):.4f}\")\n",
        "    print(f\"F1-Score: {f1_score(y_true, y_pred, average='weighted'):.4f}\")"
      ],
      "metadata": {
        "colab": {
          "base_uri": "https://localhost:8080/"
        },
        "id": "I3lRR5cOaGBH",
        "outputId": "218f8e47-6ae1-4933-c195-4763b8c7e36c"
      },
      "execution_count": null,
      "outputs": [
        {
          "output_type": "stream",
          "name": "stdout",
          "text": [
            "\n",
            "Latih SVM Tanpa Clustering:\n",
            "Akurasi: 0.9294\n",
            "Precision: 0.9281\n",
            "Recall: 0.9294\n",
            "F1-Score: 0.9281\n",
            "\n",
            "Prediksi SVM Tanpa Clustering:\n",
            "Akurasi: 0.9289\n",
            "Precision: 0.9276\n",
            "Recall: 0.9289\n",
            "F1-Score: 0.9277\n"
          ]
        }
      ]
    },
    {
      "cell_type": "markdown",
      "source": [
        "## **4️⃣ Confusion Matrix (Tanpa Clustering)**"
      ],
      "metadata": {
        "id": "T-H17Z-2aPpQ"
      }
    },
    {
      "cell_type": "code",
      "source": [
        "conf_matrix_svm_no_cluster = confusion_matrix(y_test_no_cluster, y_test_pred_svm_no_cluster)\n",
        "disp_svm_no_cluster = ConfusionMatrixDisplay(confusion_matrix=conf_matrix_svm_no_cluster, display_labels=svm_model_no_cluster.classes_)\n",
        "disp_svm_no_cluster.plot(cmap='Reds')\n",
        "plt.show()"
      ],
      "metadata": {
        "colab": {
          "base_uri": "https://localhost:8080/",
          "height": 449
        },
        "id": "yAGGhTwLaQFK",
        "outputId": "9a807953-e542-4b34-ed90-b9a81a186e0a"
      },
      "execution_count": null,
      "outputs": [
        {
          "output_type": "display_data",
          "data": {
            "text/plain": [
              "<Figure size 640x480 with 2 Axes>"
            ],
            "image/png": "[encoded data removed]"
          },
          "metadata": {}
        }
      ]
    },
    {
      "cell_type": "markdown",
      "source": [
        "# **8. Evaluasi dan Perbandingan Evaluasi Model Klasifikasi**"
      ],
      "metadata": {
        "id": "FX0T1WVoJar4"
      }
    },
    {
      "cell_type": "code",
      "source": [
        "fig, axes = plt.subplots(1, 3, figsize=(12, 4))\n",
        "\n",
        "conf_matrix_svm = confusion_matrix(y_test, y_test_pred_svm)\n",
        "sns.heatmap(conf_matrix_svm, annot=True, fmt='d', cmap='Blues', xticklabels=set(y_test), yticklabels=set(y_test), ax=axes[0])\n",
        "axes[0].set_title(\"SVM dengan Clustering\")\n",
        "axes[0].set_xlabel(\"Predicted\")\n",
        "axes[0].set_ylabel(\"Actual\")\n",
        "\n",
        "conf_matrix_svm_tuned = confusion_matrix(y_test, y_test_pred_svm_tuned)\n",
        "sns.heatmap(conf_matrix_svm_tuned, annot=True, fmt='d', cmap='Greens', xticklabels=set(y_test), yticklabels=set(y_test), ax=axes[1])\n",
        "axes[1].set_title(\"SVM + Hyperparameter\")\n",
        "axes[1].set_xlabel(\"Predicted\")\n",
        "axes[1].set_ylabel(\"Actual\")\n",
        "\n",
        "conf_matrix_svm_no_cluster = confusion_matrix(y_test_no_cluster, y_test_pred_svm_no_cluster)\n",
        "sns.heatmap(conf_matrix_svm_no_cluster, annot=True, fmt='d', cmap='Reds', xticklabels=set(y_test_no_cluster), yticklabels=set(y_test_no_cluster), ax=axes[2])\n",
        "axes[2].set_title(\"SVM tanpa Clustering\")\n",
        "axes[2].set_xlabel(\"Predicted\")\n",
        "axes[2].set_ylabel(\"Actual\")\n",
        "\n",
        "plt.tight_layout()\n",
        "plt.show()"
      ],
      "metadata": {
        "colab": {
          "base_uri": "https://localhost:8080/",
          "height": 407
        },
        "id": "b0SKCxTiJpqC",
        "outputId": "8364d68a-f2d8-4387-f6dd-67f3ae397f93"
      },
      "execution_count": null,
      "outputs": [
        {
          "output_type": "display_data",
          "data": {
            "text/plain": [
              "<Figure size 1200x400 with 6 Axes>"
            ],
            "image/png": "[encoded data removed]"
          },
          "metadata": {}
        }
      ]
    },
    {
      "cell_type": "markdown",
      "source": [
        "## **🎞️Interpretasi hasil**\n",
        "\n",
        "🫧 SVM dengan Clustering:\n",
        "* Hasil clustering memberikan akurasi yang baik, namun masih ada 104 prediksi salah untuk kategori negatif dan 62 untuk kategori positif. Clustering membantu, tapi masih ada potensi peningkatan akurasi.\n",
        "\n",
        "🛠️ SVM + Hyperparameter Tuning:\n",
        "* Model ini menunjukkan hasil terbaik, dengan hanya 101 kesalahan pada kategori negatif dan 10 kesalahan pada kategori positif. Tuning hyperparameter berhasil meminimalkan kesalahan prediksi.\n",
        "\n",
        "⛓️‍💥 SVM tanpa Clustering:\n",
        "* Meskipun tanpa clustering, model ini tetap akurat, meski terdapat sedikit lebih banyak kesalahan dibandingkan dengan model dengan hyperparameter tuning. Akurasi tetap tinggi namun tidak seoptimal model dengan tuning."
      ],
      "metadata": {
        "id": "lH22PO1aJryv"
      }
    },
    {
      "cell_type": "markdown",
      "source": [
        "## **🏆Kesimpulan**\n",
        "Untuk prediksi kesukaan/favorit pelanggan, **model SVM dengan Tuning Hyperparameter memberikan hasil yang paling optimal**, dengan kesalahan lebih rendah dibandingkan model lain. **Penggunaan clustering juga memberikan nilai tambah,** namun tuning hyperparameter lebih efektif dalam meningkatkan akurasi prediksi. SVM tanpa clustering tetap dapat digunakan, namun akurasinya sedikit lebih rendah."
      ],
      "metadata": {
        "id": "hJ3Chof5yr6T"
      }
    }
  ]
}